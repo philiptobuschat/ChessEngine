{
 "cells": [
  {
   "cell_type": "code",
   "execution_count": 1,
   "metadata": {},
   "outputs": [],
   "source": [
    "import numpy as np\n",
    "import time\n",
    "import torch\n",
    "import torch.nn as nn\n",
    "from torch.utils.data import TensorDataset, DataLoader, random_split\n",
    "import torch.optim as optim\n",
    "import matplotlib.pyplot as plt\n",
    "import sys, os\n",
    "\n",
    "project_root = os.path.abspath(os.path.join(os.getcwd(), '..', '..'))\n",
    "sys.path.append(project_root)\n",
    "\n",
    "from Resources.Model import Model_v25\n",
    "from Resources.Game import *\n",
    "from Resources.TS_ModelGuided import *\n",
    "from Resources.TS_ModelGuided_MCRollout import *\n",
    "from Resources.TS_ModelGuided_SensAnalysis import *\n",
    "\n",
    "from test_games import test_games\n"
   ]
  },
  {
   "cell_type": "markdown",
   "metadata": {},
   "source": [
    "##### Setup Model"
   ]
  },
  {
   "cell_type": "code",
   "execution_count": 2,
   "metadata": {},
   "outputs": [
    {
     "data": {
      "text/plain": [
       "<All keys matched successfully>"
      ]
     },
     "execution_count": 2,
     "metadata": {},
     "output_type": "execute_result"
    }
   ],
   "source": [
    "model = Model_v25()\n",
    "model.eval()\n",
    "model.load_state_dict(torch.load('../Monte Carlo/Model Saves MC v25/model_2000_batches'))"
   ]
  },
  {
   "cell_type": "markdown",
   "metadata": {},
   "source": [
    "Settings"
   ]
  },
  {
   "cell_type": "code",
   "execution_count": 3,
   "metadata": {},
   "outputs": [],
   "source": [
    "def factors_short_to_long(short):\n",
    "    # set parameters for material and gradients to zero\n",
    "    return [short[0], 0.0, short[1], short[2], 0.0, 0.0, short[3]]\n",
    "\n",
    "def factors_mid_to_long(mid):\n",
    "    # set parameter for material to zero\n",
    "    return [mid[0], 0.0, mid[1], mid[2], mid[3], mid[4], mid[5]]"
   ]
  },
  {
   "cell_type": "code",
   "execution_count": 4,
   "metadata": {},
   "outputs": [],
   "source": [
    "# factors:\n",
    "# factor_wins=1, factor_mat=0, factor_value_sum=0.5, factor_value_indi=0.5, \n",
    "# factor_grad_sum=0.1, factor_grad_indi=0.1, factor_explore=1e-3,\n",
    "\n",
    "factors_1 = [1, 0, 0.5, 0.5, 0.0, 0.0, 0.0001]\n",
    "factors_2 = [1, 0, 0.5, 0.5, 0.0, 0.0, 10]\n",
    "\n",
    "factors = [1.0, 1.0, 1.0, 1.0, 1.0, 1.0] # factor wins\n",
    "\n",
    "# when using only [wins, value_sum, value_indi, explore]\n",
    "# --> [0.23509465 0.97146549 0.01327048 0.02844645]\n",
    "\n",
    "n_games = 3\n",
    "tmax = 0.5"
   ]
  },
  {
   "cell_type": "code",
   "execution_count": 5,
   "metadata": {},
   "outputs": [
    {
     "name": "stdout",
     "output_type": "stream",
     "text": [
      "[0.40824829 0.40824829 0.40824829 0.40824829 0.40824829 0.40824829]\n"
     ]
    }
   ],
   "source": [
    "# Small RL loop, pseudo SGD\n",
    "factors = [1.0, 1.0, 1.0, 1.0, 1.0, 1.0]\n",
    "factors = np.array(factors)\n",
    "factors = 1/np.linalg.norm(factors) * factors \n",
    "print(factors)"
   ]
  },
  {
   "cell_type": "code",
   "execution_count": 10,
   "metadata": {},
   "outputs": [
    {
     "name": "stdout",
     "output_type": "stream",
     "text": [
      "0 [0.40824829 0.40824829 0.40824829 0.40824829 0.40824829 0.40824829]\n",
      "1 [0.37544934 0.41299428 0.41299428 0.4542937  0.41299428 0.37544934]\n",
      "2 [0.33234974 0.40214319 0.44235751 0.48659326 0.40214319 0.36558472]\n",
      "3 [0.32142085 0.38891922 0.47059226 0.47059226 0.38891922 0.38891922]\n",
      "4 [0.29186175 0.38846799 0.51705089 0.47004627 0.35315272 0.38846799]\n",
      "5 [0.28531769 0.37975785 0.5054577  0.5054577  0.34523441 0.37975785]\n",
      "6 [0.25376023 0.33775487 0.4945069  0.54395759 0.33775487 0.40868339]\n",
      "7 [0.24965597 0.3322921  0.48650886 0.58867573 0.3322921  0.36552131]\n",
      "8 [0.25208305 0.30502049 0.49123855 0.59439864 0.33552254 0.36907479]\n",
      "9 [0.23564215 0.31363971 0.50511989 0.61119506 0.31363971 0.34500368]\n",
      "10 [0.25753363 0.34277727 0.45623654 0.60725084 0.3116157  0.37705499]\n",
      "11 [0.24531325 0.35916312 0.43458738 0.63627938 0.29682903 0.35916312]\n",
      "12 [0.25006973 0.36612709 0.44301378 0.64861648 0.2750767  0.33284281]\n",
      "13 [0.25732896 0.34250485 0.45587396 0.66744506 0.25732896 0.31136805]\n",
      "14 [0.25937423 0.3452271  0.41772479 0.67274996 0.25937423 0.3452271 ]\n",
      "15 [0.24238457 0.35487525 0.39036278 0.69155148 0.24238457 0.35487525]\n",
      "16 [0.25085158 0.36727179 0.36727179 0.71570883 0.25085158 0.30353041]\n",
      "17 [0.25527178 0.33976674 0.37374342 0.72832019 0.23206526 0.30887886]\n",
      "18 [0.29071703 0.3517676  0.38694436 0.68549554 0.26428821 0.31978873]\n",
      "19 [0.27889718 0.33746559 0.37121215 0.72338746 0.23049354 0.3067869 ]\n",
      "20 [0.24435371 0.29566799 0.35775827 0.76688663 0.22213974 0.29566799]\n"
     ]
    }
   ],
   "source": [
    "# small RL loop to find best factor hyperparameters \n",
    "\n",
    "factor_hist = []\n",
    "\n",
    "while True:\n",
    "\n",
    "    print(len(factor_hist), factors)\n",
    "\n",
    "    # t0 = time.time()\n",
    "\n",
    "    for i in range(6):\n",
    "\n",
    "        # print(factors)\n",
    "        factors_test = factors.copy()\n",
    "        factors_test[i] *= 1.1\n",
    "\n",
    "        wins_1, draws, wins_2 = test_games(n_games, model, tmax, factors_mid_to_long(factors), \n",
    "                                        factors_mid_to_long(factors_test))\n",
    "        \n",
    "        if wins_1 > wins_2:\n",
    "            factors[i] *= 1/1.1\n",
    "        elif wins_2 > wins_1:\n",
    "            factors[i] *= 1.1\n",
    "\n",
    "    factors = 1/np.linalg.norm(factors) * factors \n",
    "    \n",
    "    factor_hist.append(factors.copy())\n",
    "\n",
    "    # print('duration: ', time.time() - t0)"
   ]
  },
  {
   "cell_type": "code",
   "execution_count": 29,
   "metadata": {},
   "outputs": [
    {
     "name": "stdout",
     "output_type": "stream",
     "text": [
      "[1.    0.    1.    1.    0.    0.    0.001]\n"
     ]
    }
   ],
   "source": [
    "factor_hist = []\n",
    "factors = [1.0, 0.0, 1.0, 1.0, 0.0, 0.0, 1e-3]\n",
    "# [wins, value sum, value ind, grad sum, grad ind, exploration]\n",
    "factors = np.array(factors)\n",
    "for factor_i in range(7):\n",
    "    if factor_i == 1:\n",
    "        continue\n",
    "    torch.save(factors[factor_i], 'latest factor_{}'.format(factor_i))\n",
    "# factors = 1/np.linalg.norm(factors) * factors \n",
    "print(factors)"
   ]
  },
  {
   "cell_type": "code",
   "execution_count": 26,
   "metadata": {},
   "outputs": [
    {
     "name": "stdout",
     "output_type": "stream",
     "text": [
      "[1.    1.    1.    0.    0.    0.001]\n",
      "start processes\n",
      "wait for processes\n",
      "Process 1 (0, 0, 1)\n",
      "Process 2 (0, 0, 1)\n",
      "Process 3 (0, 0, 1)\n",
      "Process 5 (1, 0, 0)\n",
      "Process 0 (1, 0, 0)\n",
      "Process 4 (0, 1, 0)\n",
      "evaluate results\n",
      "duration:  205.93771290779114\n",
      "[9.09090909e-01 1.10000000e+00 1.10000000e+00 1.00000000e-02\n",
      " 0.00000000e+00 9.09090909e-04]\n",
      "start processes\n",
      "wait for processes\n",
      "Process 3 (0, 0, 1)\n",
      "Process 5 (0, 1, 0)\n",
      "Process 4 (0, 0, 1)\n",
      "Process 0 (0, 1, 0)\n",
      "Process 2 (0, 1, 0)\n",
      "Process 1 (0, 0, 1)\n",
      "evaluate results\n",
      "duration:  287.465341091156\n",
      "[9.09090909e-01 1.21000000e+00 1.10000000e+00 2.00000000e-02\n",
      " 1.00000000e-02 9.09090909e-04]\n",
      "start processes\n",
      "wait for processes\n",
      "Process 0 (0, 0, 1)\n",
      "Process 3 (1, 0, 0)\n",
      "Process 1 (0, 0, 1)\n",
      "Process 2 (0, 1, 0)\n",
      "Process 5 (0, 1, 0)\n",
      "Process 4 (0, 1, 0)\n",
      "evaluate results\n",
      "duration:  265.88872814178467\n",
      "[1.00000000e+00 1.33100000e+00 1.10000000e+00 1.00000000e-02\n",
      " 1.00000000e-02 9.09090909e-04]\n",
      "start processes\n",
      "wait for processes\n"
     ]
    },
    {
     "ename": "KeyboardInterrupt",
     "evalue": "",
     "output_type": "error",
     "traceback": [
      "\u001b[0;31m---------------------------------------------------------------------------\u001b[0m",
      "\u001b[0;31mKeyboardInterrupt\u001b[0m                         Traceback (most recent call last)",
      "\u001b[1;32m/Users/Philip/Desktop/GitHub/ChessEngine/Train Value Function/Tree Search Parameters/TreeSearchParameterLearning.ipynb Cell 10\u001b[0m line \u001b[0;36m4\n\u001b[1;32m     <a href='vscode-notebook-cell:/Users/Philip/Desktop/GitHub/ChessEngine/Train%20Value%20Function/Tree%20Search%20Parameters/TreeSearchParameterLearning.ipynb#X30sZmlsZQ%3D%3D?line=39'>40</a>\u001b[0m \u001b[39mprint\u001b[39m(\u001b[39m'\u001b[39m\u001b[39mwait for processes\u001b[39m\u001b[39m'\u001b[39m)\n\u001b[1;32m     <a href='vscode-notebook-cell:/Users/Philip/Desktop/GitHub/ChessEngine/Train%20Value%20Function/Tree%20Search%20Parameters/TreeSearchParameterLearning.ipynb#X30sZmlsZQ%3D%3D?line=41'>42</a>\u001b[0m \u001b[39mfor\u001b[39;00m process \u001b[39min\u001b[39;00m process_list:\n\u001b[0;32m---> <a href='vscode-notebook-cell:/Users/Philip/Desktop/GitHub/ChessEngine/Train%20Value%20Function/Tree%20Search%20Parameters/TreeSearchParameterLearning.ipynb#X30sZmlsZQ%3D%3D?line=42'>43</a>\u001b[0m     process\u001b[39m.\u001b[39;49mjoin()\n\u001b[1;32m     <a href='vscode-notebook-cell:/Users/Philip/Desktop/GitHub/ChessEngine/Train%20Value%20Function/Tree%20Search%20Parameters/TreeSearchParameterLearning.ipynb#X30sZmlsZQ%3D%3D?line=44'>45</a>\u001b[0m \u001b[39mprint\u001b[39m(\u001b[39m'\u001b[39m\u001b[39mevaluate results\u001b[39m\u001b[39m'\u001b[39m)\n\u001b[1;32m     <a href='vscode-notebook-cell:/Users/Philip/Desktop/GitHub/ChessEngine/Train%20Value%20Function/Tree%20Search%20Parameters/TreeSearchParameterLearning.ipynb#X30sZmlsZQ%3D%3D?line=46'>47</a>\u001b[0m \u001b[39mfor\u001b[39;00m i \u001b[39min\u001b[39;00m \u001b[39mrange\u001b[39m(\u001b[39m6\u001b[39m):\n",
      "File \u001b[0;32m/Library/Frameworks/Python.framework/Versions/3.10/lib/python3.10/threading.py:1096\u001b[0m, in \u001b[0;36mThread.join\u001b[0;34m(self, timeout)\u001b[0m\n\u001b[1;32m   1093\u001b[0m     \u001b[39mraise\u001b[39;00m \u001b[39mRuntimeError\u001b[39;00m(\u001b[39m\"\u001b[39m\u001b[39mcannot join current thread\u001b[39m\u001b[39m\"\u001b[39m)\n\u001b[1;32m   1095\u001b[0m \u001b[39mif\u001b[39;00m timeout \u001b[39mis\u001b[39;00m \u001b[39mNone\u001b[39;00m:\n\u001b[0;32m-> 1096\u001b[0m     \u001b[39mself\u001b[39;49m\u001b[39m.\u001b[39;49m_wait_for_tstate_lock()\n\u001b[1;32m   1097\u001b[0m \u001b[39melse\u001b[39;00m:\n\u001b[1;32m   1098\u001b[0m     \u001b[39m# the behavior of a negative timeout isn't documented, but\u001b[39;00m\n\u001b[1;32m   1099\u001b[0m     \u001b[39m# historically .join(timeout=x) for x<0 has acted as if timeout=0\u001b[39;00m\n\u001b[1;32m   1100\u001b[0m     \u001b[39mself\u001b[39m\u001b[39m.\u001b[39m_wait_for_tstate_lock(timeout\u001b[39m=\u001b[39m\u001b[39mmax\u001b[39m(timeout, \u001b[39m0\u001b[39m))\n",
      "File \u001b[0;32m/Library/Frameworks/Python.framework/Versions/3.10/lib/python3.10/threading.py:1116\u001b[0m, in \u001b[0;36mThread._wait_for_tstate_lock\u001b[0;34m(self, block, timeout)\u001b[0m\n\u001b[1;32m   1113\u001b[0m     \u001b[39mreturn\u001b[39;00m\n\u001b[1;32m   1115\u001b[0m \u001b[39mtry\u001b[39;00m:\n\u001b[0;32m-> 1116\u001b[0m     \u001b[39mif\u001b[39;00m lock\u001b[39m.\u001b[39;49macquire(block, timeout):\n\u001b[1;32m   1117\u001b[0m         lock\u001b[39m.\u001b[39mrelease()\n\u001b[1;32m   1118\u001b[0m         \u001b[39mself\u001b[39m\u001b[39m.\u001b[39m_stop()\n",
      "\u001b[0;31mKeyboardInterrupt\u001b[0m: "
     ]
    },
    {
     "name": "stdout",
     "output_type": "stream",
     "text": [
      "Process 1 (1, 0, 0)\n",
      "Process 4 (1, 0, 0)\n",
      "Process 0 (1, 0, 0)\n",
      "Process 2 (1, 0, 0)\n",
      "Process 3 (1, 0, 0)\n",
      "Process 5 (0, 1, 0)\n"
     ]
    }
   ],
   "source": [
    "# small RL loop to find best factor hyperparameters \n",
    "# Threading to run test games in parallel\n",
    "\n",
    "import threading\n",
    "\n",
    "from test_games import test_games, run_test_games\n",
    "\n",
    "while True:\n",
    "\n",
    "    print(factors)\n",
    "\n",
    "    t0 = time.time()\n",
    "\n",
    "    factor_hist.append(factors.copy())\n",
    "\n",
    "    process_list = []\n",
    "\n",
    "    for i in range(6):\n",
    "\n",
    "        # print(factors)\n",
    "\n",
    "        factors_test = factors.copy()\n",
    "\n",
    "        if i == 3 or i == 4: # grad based factors might switch sign\n",
    "            factors_test[i] += 0.01\n",
    "        else: # for other factors find proper scale\n",
    "            factors_test[i] *= 1.1\n",
    "\n",
    "        arg_list = [1, model, 1, factors_mid_to_long(factors), \n",
    "                                        factors_mid_to_long(factors_test)]\n",
    "\n",
    "        process_list.append(threading.Thread(target=run_test_games, \n",
    "                                           args=('Process '+str(i), arg_list)))\n",
    "    \n",
    "    print('start processes')\n",
    "\n",
    "    for process in process_list:\n",
    "        process.start()\n",
    "\n",
    "    print('wait for processes')\n",
    "    \n",
    "    for process in process_list:\n",
    "        process.join()\n",
    "    \n",
    "    print('evaluate results')\n",
    "\n",
    "    for i in range(6):\n",
    "\n",
    "        wins_1, draws, wins_2 = torch.load('temp Process '+str(i))\n",
    "\n",
    "        if i == 3 or i == 4:\n",
    "\n",
    "            if wins_1 > wins_2:\n",
    "                factors[i] -= 0.01\n",
    "            elif wins_2 > wins_1:\n",
    "                factors[i] += 0.01\n",
    "\n",
    "        else:\n",
    "            if wins_1 > wins_2:\n",
    "                factors[i] *= 1/1.1\n",
    "            elif wins_2 > wins_1:\n",
    "                factors[i] *= 1.1\n",
    "\n",
    "    # factors = 1/np.linalg.norm(factors) * factors \n",
    "\n",
    "    torch.save(factors, 'factor saves/factors save '+str(len(factor_hist)))\n",
    "\n",
    "    print('duration: ', time.time() - t0)"
   ]
  },
  {
   "cell_type": "code",
   "execution_count": null,
   "metadata": {},
   "outputs": [],
   "source": []
  },
  {
   "cell_type": "code",
   "execution_count": 24,
   "metadata": {},
   "outputs": [
    {
     "data": {
      "image/png": "[encoded data removed]",
      "text/plain": [
       "<Figure size 640x480 with 1 Axes>"
      ]
     },
     "metadata": {},
     "output_type": "display_data"
    }
   ],
   "source": [
    "for j, lab in zip(range(6), ['wins', 'value sum', 'value ind', 'grad sum', 'grad ind', 'exploration']):\n",
    "    plt.plot([i[j] for i in factor_hist], label=lab)\n",
    "plt.legend()\n",
    "plt.show()"
   ]
  },
  {
   "cell_type": "code",
   "execution_count": null,
   "metadata": {},
   "outputs": [],
   "source": [
    "# "
   ]
  },
  {
   "cell_type": "code",
   "execution_count": 82,
   "metadata": {},
   "outputs": [
    {
     "name": "stdout",
     "output_type": "stream",
     "text": [
      "torch.Size([10, 768])\n",
      "tensor(-14.8880, grad_fn=<SumBackward0>)\n",
      "Jacobian shape: torch.Size([10, 12, 8, 8])\n"
     ]
    }
   ],
   "source": [
    "import torch.autograd.functional as F\n",
    "\n",
    "class SimpleModel(nn.Module):\n",
    "    def __init__(self):\n",
    "        super(SimpleModel, self).__init__()\n",
    "        self.fc = nn.Linear(12 * 8 * 8, 1)\n",
    "\n",
    "    def forward(self, x):\n",
    "        x_flat = x.view(x.size(0), -1)\n",
    "        return self.fc(x_flat)\n",
    "\n",
    "\n",
    "# Create an instance of the model\n",
    "test_model = SimpleModel()\n",
    "\n",
    "# Generate some input data (vectorized version)\n",
    "batch_size = 10\n",
    "vectorized_input = torch.ones((batch_size, 12, 8, 8), requires_grad=True).view(batch_size, -1)\n",
    "jacobian_matrix = F.jacobian(lambda x: model(x.view(-1, 12, 8, 8)).sum(), vectorized_input)\n",
    "jacobian = jacobian_matrix.view(batch_size, 12, 8, 8)\n",
    "\n",
    "print(\"Jacobian shape:\", jacobian.shape)\n"
   ]
  },
  {
   "cell_type": "code",
   "execution_count": 63,
   "metadata": {},
   "outputs": [
    {
     "data": {
      "text/plain": [
       "[Parameter containing:\n",
       " tensor([[-0.2408, -0.2951, -0.0612, -0.0810]], requires_grad=True),\n",
       " Parameter containing:\n",
       " tensor([0.4001], requires_grad=True)]"
      ]
     },
     "execution_count": 63,
     "metadata": {},
     "output_type": "execute_result"
    }
   ],
   "source": [
    "[i for i in test_model.parameters()]"
   ]
  },
  {
   "cell_type": "code",
   "execution_count": null,
   "metadata": {},
   "outputs": [],
   "source": []
  }
 ],
 "metadata": {
  "kernelspec": {
   "display_name": "Python 3",
   "language": "python",
   "name": "python3"
  },
  "language_info": {
   "codemirror_mode": {
    "name": "ipython",
    "version": 3
   },
   "file_extension": ".py",
   "mimetype": "text/x-python",
   "name": "python",
   "nbconvert_exporter": "python",
   "pygments_lexer": "ipython3",
   "version": "3.10.10"
  },
  "orig_nbformat": 4,
  "vscode": {
   "interpreter": {
    "hash": "aee8b7b246df8f9039afb4144a1f6fd8d2ca17a180786b69acc140d282b71a49"
   }
  }
 },
 "nbformat": 4,
 "nbformat_minor": 2
}
