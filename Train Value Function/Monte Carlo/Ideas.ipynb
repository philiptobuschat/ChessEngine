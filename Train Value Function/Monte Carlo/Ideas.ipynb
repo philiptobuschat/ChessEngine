{
 "cells": [
  {
   "cell_type": "code",
   "execution_count": 1,
   "metadata": {},
   "outputs": [],
   "source": [
    "# 1:\n",
    "# Get alternative model, that share all but last layer.\n",
    "# Train this model on draws to predict probability of draw\n",
    "# use in the later tree search to seek draw when behind and avoi draw when ahead"
   ]
  },
  {
   "cell_type": "code",
   "execution_count": null,
   "metadata": {},
   "outputs": [],
   "source": [
    "# 2:\n",
    "# Retrain many models on all now available games to tune hyperparameters-\n",
    "# Not a perfect replacement for data gathered with currently trained model itself\n",
    "# but decent way of comparing hyperparameters generally and develop an intuition.\n",
    "# Possible knobs to tune here:\n",
    "# - replay buffer off vs. large number of games. \n",
    "# - only recent games vs. long past games\n",
    "# - different constant learning rates \n",
    "# - different diminishing learning rates, 1/(c + n) vs. 1/sqrt(n)\n",
    "# - regularization L1 vs L2\n",
    "# - batchsizes\n",
    "# \n",
    "# maybe even completely different model architectures\n",
    "# - removing bias from different layers (?)\n",
    "# - trying gradient clipping (?)\n",
    "# \n",
    "# Generating proper validation games is costly, probably just stick to training errors"
   ]
  },
  {
   "cell_type": "code",
   "execution_count": null,
   "metadata": {},
   "outputs": [],
   "source": [
    "# Regularisation only for first conv layers kernel + bias!"
   ]
  },
  {
   "cell_type": "code",
   "execution_count": null,
   "metadata": {},
   "outputs": [],
   "source": [
    "# Use a measure of how certain the model is in the tree search. Volatile positions merit further analysis\n",
    "\n",
    "# - sensitivity analysis using the gradient of model\n",
    "#   output w.r.t. input. This can help later in the tree search. \n",
    "# - monte carlo dropout during forward passes to"
   ]
  },
  {
   "cell_type": "code",
   "execution_count": null,
   "metadata": {},
   "outputs": [],
   "source": []
  }
 ],
 "metadata": {
  "kernelspec": {
   "display_name": "Python 3",
   "language": "python",
   "name": "python3"
  },
  "language_info": {
   "codemirror_mode": {
    "name": "ipython",
    "version": 3
   },
   "file_extension": ".py",
   "mimetype": "text/x-python",
   "name": "python",
   "nbconvert_exporter": "python",
   "pygments_lexer": "ipython3",
   "version": "3.10.10"
  },
  "orig_nbformat": 4,
  "vscode": {
   "interpreter": {
    "hash": "aee8b7b246df8f9039afb4144a1f6fd8d2ca17a180786b69acc140d282b71a49"
   }
  }
 },
 "nbformat": 4,
 "nbformat_minor": 2
}
