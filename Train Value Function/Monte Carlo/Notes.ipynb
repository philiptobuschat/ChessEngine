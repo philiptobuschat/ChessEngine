{
 "cells": [
  {
   "cell_type": "code",
   "execution_count": null,
   "metadata": {},
   "outputs": [],
   "source": [
    "# Model Saves MC v7:\n",
    "# Parallelised data generation: 5 parallel script\n",
    "# hyperparameters:\n",
    "# learning_rate = 5e-5 (const)\n",
    "# weight_decay = 1e-2  (very strong L2 reg.)\n",
    "# n_minibatch = 100\n",
    "# 3 replay games (exp decay factor 0.003)"
   ]
  },
  {
   "cell_type": "code",
   "execution_count": null,
   "metadata": {},
   "outputs": [],
   "source": [
    "# Model Saves MC v8:\n",
    "# Parallelised data generation: 5 parallel script\n",
    "# New model architecture and slightly different hyperparameters\n",
    "# hyperparameters:\n",
    "# learning_rate = 5e-4 (const)\n",
    "# weight_decay = 0  (no reg.)\n",
    "# n_minibatch = 100\n",
    "# 3 replay games (exp decay factor 0.003)"
   ]
  },
  {
   "cell_type": "code",
   "execution_count": null,
   "metadata": {},
   "outputs": [],
   "source": [
    "# Model Saves MC v8_2:\n",
    "# Train on draws as well!\n",
    "\n",
    "# Also: use optimized hyperparameters based on offline training tests \n",
    "# see   ValueTrain_MC_OfflineTraining_and_ArchitectureTuning\n",
    "#       ValueTrain_MC_OfflineTraining_and_HyperparameterTuning\n",
    "\n",
    "# still parallelised\n",
    "# new hyperparameters:\n",
    "# lr0 = 1.5e-3\n",
    "# a = 250\n",
    "# so that learning_rate = lr0 * a / (a + batch)\n",
    "# n_batches = 100\n",
    "# n_replay = 20 (exp decay factor 0.02)\n",
    "# weight_decay = 1e-7"
   ]
  },
  {
   "cell_type": "code",
   "execution_count": null,
   "metadata": {},
   "outputs": [],
   "source": [
    "# Model Saves MC v8_3\n",
    "# No longer train on draws (seems not helpful but expensive)\n",
    "\n",
    "# more exploration in training data\n",
    "# value_diff_scale = 250 -> 50\n",
    "# value_diff_scale_early = 5 -> 1\n",
    "\n",
    "# hyperparameters from v8_2\n",
    "\n",
    "# improved data generation (all games per batch in parallel to reduce overhead of forwardpass)\n",
    "# new generation script \"..._v8_Par\" -> \".._v8_ParBatched\"\n",
    "# starting at data index 1216\n",
    "# constant number of games per batch is no longer guaranteed, but only on average the same \n",
    "# fluctuation should be small at large target batch sizes (e.g. 100)"
   ]
  },
  {
   "cell_type": "code",
   "execution_count": null,
   "metadata": {},
   "outputs": [],
   "source": [
    "# Model Saves MC "
   ]
  }
 ],
 "metadata": {
  "kernelspec": {
   "display_name": "Python 3",
   "language": "python",
   "name": "python3"
  },
  "language_info": {
   "codemirror_mode": {
    "name": "ipython",
    "version": 3
   },
   "file_extension": ".py",
   "mimetype": "text/x-python",
   "name": "python",
   "nbconvert_exporter": "python",
   "pygments_lexer": "ipython3",
   "version": "3.10.10"
  },
  "orig_nbformat": 4,
  "vscode": {
   "interpreter": {
    "hash": "aee8b7b246df8f9039afb4144a1f6fd8d2ca17a180786b69acc140d282b71a49"
   }
  }
 },
 "nbformat": 4,
 "nbformat_minor": 2
}
