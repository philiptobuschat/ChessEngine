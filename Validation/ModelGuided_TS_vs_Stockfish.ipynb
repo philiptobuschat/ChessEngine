{
 "cells": [
  {
   "cell_type": "code",
   "execution_count": 2,
   "metadata": {},
   "outputs": [],
   "source": [
    "import numpy as np\n",
    "import time\n",
    "import torch\n",
    "import torch.nn as nn\n",
    "from torch.utils.data import TensorDataset, DataLoader, random_split\n",
    "import torch.optim as optim\n",
    "import matplotlib.pyplot as plt\n",
    "import sys, os\n",
    "\n",
    "project_root = os.path.abspath(os.path.join(os.getcwd(), '..'))\n",
    "sys.path.append(project_root)\n",
    "\n",
    "from Resources.Model import Model_v4\n",
    "from Resources.Game import *\n",
    "from Resources.TS_ModelGuided import *\n",
    "from Resources.TS_ModelGuided_MCRollout import *\n",
    "\n",
    "\n",
    "from stockfish import Stockfish"
   ]
  },
  {
   "cell_type": "markdown",
   "metadata": {},
   "source": [
    "##### Setup Model"
   ]
  },
  {
   "cell_type": "code",
   "execution_count": 3,
   "metadata": {},
   "outputs": [
    {
     "data": {
      "text/plain": [
       "Model_v4(\n",
       "  (conv3x3): Conv3d(1, 12, kernel_size=(12, 3, 3), stride=(1, 1, 1), padding=(0, 1, 1))\n",
       "  (conv5x5): Conv3d(1, 12, kernel_size=(12, 5, 5), stride=(1, 1, 1), padding=(0, 2, 2))\n",
       "  (conv7x7): Conv3d(1, 12, kernel_size=(12, 7, 7), stride=(1, 1, 1), padding=(0, 3, 3))\n",
       "  (relu): ReLU()\n",
       "  (pool): MaxPool3d(kernel_size=(1, 4, 4), stride=(1, 4, 4), padding=0, dilation=1, ceil_mode=False)\n",
       "  (fc1): Linear(in_features=144, out_features=128, bias=True)\n",
       "  (relu2): ReLU()\n",
       "  (dropout): Dropout(p=0.5, inplace=False)\n",
       "  (fc2): Linear(in_features=128, out_features=1, bias=True)\n",
       ")"
      ]
     },
     "execution_count": 3,
     "metadata": {},
     "output_type": "execute_result"
    }
   ],
   "source": [
    "model = Model_v4()\n",
    "model.load_state_dict(torch.load('../Train Value Function/Monte Carlo/Model Saves MC v4/model_51410_games'))\n",
    "model.eval()"
   ]
  },
  {
   "cell_type": "code",
   "execution_count": null,
   "metadata": {},
   "outputs": [],
   "source": [
    "color = 'black'         # indicate our engine's color\n",
    "tmax_TS = 30             # [s] calculations time per move for our TS\n",
    "tmax_stockfish = 100    # [ms] calculation time per move for opponent\n",
    "stockfish_elo = 100    # elo of test opponent's\n",
    "\n",
    "stockfish = Stockfish('/Users/Philip/Desktop/Projects/RL Chess/stockfish/16/bin/stockfish')\n",
    "stockfish.set_elo_rating(stockfish_elo)\n",
    "stockfish.set_position()\n",
    "\n",
    "stockfish_moves = []\n",
    "\n",
    "boards = []\n",
    "board_tensors = []\n",
    "\n",
    "if color == 'white':\n",
    "    i_play = 0\n",
    "elif color == 'black':\n",
    "    i_play = 1\n",
    "\n",
    "game = Game()\n",
    "next_root = None\n",
    "child_root = None\n",
    "i = 0\n",
    "\n",
    "mat_diffs = []\n",
    "\n",
    "while not game.is_over():\n",
    "\n",
    "    print('board: ')\n",
    "    # print(stockfish.get_board_visual())\n",
    "    print(game.pieces)\n",
    "\n",
    "    if i % 2 == i_play:\n",
    "        # Unguided TS plays a move\n",
    "\n",
    "        # use prints options for more information or debugging\n",
    "        # use the scaling factor options to define how we navigate the search tree\n",
    "        chosen_move, root = ModelGuided_TS(game, model, root=next_root, tmax=tmax_TS, prints=False, factor_wins=2, factor_mat=0.0, \n",
    "                factor_value_sum=1, factor_value_indi=1, factor_explore=1e-3)\n",
    "\n",
    "        boards.append(game.pieces.copy())\n",
    "\n",
    "        # prepare child root to give next calculation a warm start (re-use current calculations)\n",
    "        for child in root.children:\n",
    "            if child.move == chosen_move:\n",
    "                child_root = child\n",
    "                break\n",
    "\n",
    "        # get move in stockfish notation\n",
    "        if color == 'white':\n",
    "            stockfish_move = index_to_standard(chosen_move[0]) + index_to_standard(chosen_move[1])\n",
    "        else:\n",
    "            flipped_moves = game.FlipPositions([chosen_move[0], chosen_move[1]])\n",
    "            stockfish_move = index_to_standard(flipped_moves[0]) + index_to_standard(flipped_moves[1])\n",
    "\n",
    "        print('TS move with {} visits: {} / {}'.format(child_root.visits, chosen_move, stockfish_move))\n",
    "\n",
    "        mat_diff = game.MaterialDiff()\n",
    "        mat_diffs.append(mat_diff)\n",
    "\n",
    "    else:\n",
    "        # get best move given time constraint from stockfish\n",
    "        stockfish_move = stockfish.get_best_move_time(tmax_stockfish)\n",
    "\n",
    "        move_from = standard_to_index(stockfish_move[0:2])\n",
    "        move_to = standard_to_index(stockfish_move[2:4])\n",
    "\n",
    "        for poss_move in game.PossibleMoves():\n",
    "            if move_from == poss_move[0] and move_to == poss_move[1]:\n",
    "                chosen_move = poss_move\n",
    "                break\n",
    "\n",
    "        print('stockfish move: {} / {}'.format(chosen_move, stockfish_move))\n",
    "\n",
    "    # update move in stockfish game instance \n",
    "    stockfish.make_moves_from_current_position([stockfish_move])\n",
    "\n",
    "    stockfish_moves.append(stockfish_move)\n",
    "    \n",
    "    game.PlayMove(chosen_move)\n",
    "\n",
    "\n",
    "    if i % 2 == i_play:\n",
    "        board_tensors.append(board_to_tensor(game.pieces.copy()))\n",
    "\n",
    "    game.FlipBoard()\n",
    "\n",
    "    i += 1\n",
    "\n",
    "print('board: ')\n",
    "print(stockfish.get_board_visual())\n",
    "\n",
    "winner = game.get_winner()\n",
    "print('winner: ', winner)\n",
    "\n",
    "plt.plot(mat_diffs)\n",
    "plt.title('material difference during game (>0 for TS, <0 for stockfish)')\n",
    "plt.show()\n",
    "\n",
    "values = model(torch.stack(board_tensors)).detach().numpy()\n",
    "plt.plot(values)\n",
    "plt.title('values')\n"
   ]
  },
  {
   "cell_type": "code",
   "execution_count": null,
   "metadata": {},
   "outputs": [],
   "source": []
  }
 ],
 "metadata": {
  "kernelspec": {
   "display_name": "Python 3",
   "language": "python",
   "name": "python3"
  },
  "language_info": {
   "codemirror_mode": {
    "name": "ipython",
    "version": 3
   },
   "file_extension": ".py",
   "mimetype": "text/x-python",
   "name": "python",
   "nbconvert_exporter": "python",
   "pygments_lexer": "ipython3",
   "version": "3.10.10"
  },
  "orig_nbformat": 4,
  "vscode": {
   "interpreter": {
    "hash": "aee8b7b246df8f9039afb4144a1f6fd8d2ca17a180786b69acc140d282b71a49"
   }
  }
 },
 "nbformat": 4,
 "nbformat_minor": 2
}
