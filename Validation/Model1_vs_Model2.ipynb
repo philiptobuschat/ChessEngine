{
 "cells": [
  {
   "cell_type": "code",
   "execution_count": 2,
   "metadata": {},
   "outputs": [],
   "source": [
    "import numpy as np\n",
    "import time\n",
    "import torch\n",
    "import torch.nn as nn\n",
    "from torch.utils.data import TensorDataset, DataLoader, random_split\n",
    "import torch.optim as optim\n",
    "import matplotlib.pyplot as plt\n",
    "import sys, os\n",
    "\n",
    "project_root = os.path.abspath(os.path.join(os.getcwd(), '..'))\n",
    "sys.path.append(project_root)\n",
    "\n",
    "from Resources.Model import Model_v4\n",
    "from Resources.Game import *\n",
    "from Resources.TS_ModelGuided import *\n",
    "from Resources.TS_ModelGuided_MCRollout import *\n"
   ]
  },
  {
   "cell_type": "markdown",
   "metadata": {},
   "source": [
    "##### Setup Model"
   ]
  },
  {
   "cell_type": "code",
   "execution_count": 61,
   "metadata": {},
   "outputs": [
    {
     "data": {
      "text/plain": [
       "<All keys matched successfully>"
      ]
     },
     "execution_count": 61,
     "metadata": {},
     "output_type": "execute_result"
    }
   ],
   "source": [
    "model_1 = Model_v4()\n",
    "model_1.eval()\n",
    "model_1.load_state_dict(torch.load('../Train Value Function/Monte Carlo/Model Saves MC v4/model_51410_games'))\n",
    "\n",
    "model_2 = Model_v4()\n",
    "model_2.eval()\n",
    "model_2.load_state_dict(torch.load('../Train Value Function/Monte Carlo/Model Saves MC v4/model_51410_games'))\n",
    "\n",
    "# model2 = Model_v4()\n",
    "# model2.eval()"
   ]
  },
  {
   "cell_type": "markdown",
   "metadata": {},
   "source": [
    "Settings"
   ]
  },
  {
   "cell_type": "code",
   "execution_count": 65,
   "metadata": {},
   "outputs": [],
   "source": [
    "n_test_games = 100\n",
    "\n",
    "# strategies = ['one step greedy', 'TS', 'TS with rollout']\n",
    "\n",
    "strategy_1 = 'one step greedy'\n",
    "strategy_2 = 'TS'\n",
    "\n",
    "tmax_1 = 1 # seconds of tree search per move, if applies\n",
    "tmax_2 = 10 # seconds of tree search per move, if applies\n",
    "\n",
    "wins_1 = 0\n",
    "wins_2 = 0\n",
    "draws  = 0"
   ]
  },
  {
   "cell_type": "code",
   "execution_count": 13,
   "metadata": {},
   "outputs": [
    {
     "name": "stdout",
     "output_type": "stream",
     "text": [
      " -- 0 -- winner: white\n",
      " -- 1 -- winner: black\n",
      " -- 2 -- winner: black\n",
      " -- 3 -- winner: black\n",
      " -- 4 -- winner: black\n",
      " -- 5 -- winner: draw\n",
      " -- 6 -- winner: black\n",
      " -- 7 -- winner: white\n",
      " -- 8 -- winner: draw\n",
      " -- 9 -- winner: black\n",
      " -- 10 -- winner: black\n",
      " -- 11 -- winner: draw\n",
      " -- 12 -- winner: draw\n",
      " -- 13 -- winner: black\n",
      " -- 14 -- winner: black\n",
      " -- 15 -- winner: black\n",
      " -- 16 -- winner: white\n",
      " -- 17 -- winner: draw\n",
      " -- 18 -- winner: white\n",
      " -- 19 -- winner: black\n",
      " -- 20 -- winner: black\n",
      " -- 21 -- winner: draw\n",
      " -- 22 -- winner: black\n",
      " -- 23 -- winner: draw\n",
      " -- 24 -- winner: draw\n",
      " -- 25 -- winner: black\n",
      " -- 26 -- winner: black\n",
      " -- 27 -- winner: white\n",
      " -- 28 -- winner: black\n",
      " -- 29 -- winner: black\n",
      " -- 30 -- winner: draw\n",
      " -- 31 -- winner: white\n",
      " -- 32 -- winner: black\n",
      " -- 33 -- winner: black\n",
      " -- 34 -- winner: white\n",
      " -- 35 -- winner: black\n",
      " -- 36 -- winner: white\n",
      " -- 37 -- winner: black\n",
      " -- 38 -- winner: white\n",
      " -- 39 -- winner: draw\n",
      " -- 40 -- winner: draw\n",
      " -- 41 -- winner: white\n",
      " -- 42 -- winner: draw\n",
      " -- 43 -- winner: white\n",
      " -- 44 -- winner: black\n",
      " -- 45 -- winner: black\n",
      " -- 46 -- winner: draw\n",
      " -- 47 -- winner: white\n",
      " -- 48 -- winner: black\n",
      " -- 49 -- winner: black\n",
      " -- 50 -- winner: white\n",
      " -- 51 -- winner: black\n",
      " -- 52 -- winner: white\n",
      " -- 53 -- winner: draw\n",
      " -- 54 -- winner: black\n",
      " -- 55 -- winner: black\n",
      " -- 56 -- winner: white\n",
      " -- 57 -- winner: black\n",
      " -- 58 -- winner: black\n",
      " -- 59 -- winner: white\n",
      " -- 60 -- winner: black\n",
      " -- 61 -- winner: black\n",
      " -- 62 -- winner: draw\n",
      " -- 63 -- winner: draw\n",
      " -- 64 -- winner: white\n",
      " -- 65 -- winner: black\n",
      " -- 66 -- winner: white\n",
      " -- 67 -- winner: draw\n",
      " -- 68 -- winner: black\n",
      " -- 69 -- winner: draw\n",
      " -- 70 -- winner: black\n",
      " -- 71 -- winner: draw\n",
      " -- 72 -- winner: draw\n",
      " -- 73 -- winner: draw\n",
      " -- 74 -- winner: draw\n",
      " -- 75 -- winner: white\n",
      " -- 76 -- winner: black\n",
      " -- 77 -- winner: black\n",
      " -- 78 -- winner: white\n",
      " -- 79 -- winner: black\n",
      " -- 80 -- winner: draw\n",
      " -- 81 -- winner: black\n",
      " -- 82 -- winner: draw\n",
      " -- 83 -- winner: white\n",
      " -- 84 -- winner: white\n",
      " -- 85 -- winner: black\n",
      " -- 86 -- winner: black\n",
      " -- 87 -- winner: black\n",
      " -- 88 -- winner: white\n",
      " -- 89 -- winner: black\n",
      " -- 90 -- winner: black\n",
      " -- 91 -- winner: black\n",
      " -- 92 -- winner: black\n",
      " -- 93 -- winner: white\n",
      " -- 94 -- winner: draw\n",
      " -- 95 -- winner: white\n",
      " -- 96 -- winner: black\n",
      " -- 97 -- winner: draw\n",
      " -- 98 -- winner: black\n",
      " -- 99 -- winner: black\n",
      "\n",
      "final statistics:\n",
      "wins 1: 65, draws: 26, wins 2: 9\n"
     ]
    }
   ],
   "source": [
    "for i_test_game in range(n_test_games): # loop through test games\n",
    "\n",
    "    game = Game()\n",
    "    i = 0\n",
    "\n",
    "    color_choice = np.random.choice([True, False])\n",
    "\n",
    "    if color_choice:\n",
    "        color_1 = 'white'\n",
    "        color_2 = 'black'\n",
    "    else:\n",
    "        color_1 = 'black'\n",
    "        color_2 = 'white'\n",
    "\n",
    "    value_list_1 = []\n",
    "    value_list_2 = []\n",
    "\n",
    "    while not game.is_over(): # loop through moves in current test game\n",
    "\n",
    "        if game.turn == color_1:\n",
    "            model_curr      = model_1\n",
    "            strategy_curr   = strategy_1\n",
    "            if 'TS' in strategy_curr:\n",
    "                tmax_curr   = tmax_1\n",
    "        else:\n",
    "            model_curr      = model_2\n",
    "            strategy_curr   = strategy_2\n",
    "            if 'TS' in strategy_curr:\n",
    "                tmax_curr   = tmax_2\n",
    "\n",
    "        if strategy_curr == 'one step greedy':\n",
    "\n",
    "            # play move that achieves highest value given current model\n",
    "            # except: if a move checkmates, always chose that move\n",
    "\n",
    "            moves = game.PossibleMoves()\n",
    "            game_ini = game.copy()\n",
    "            board_batch = []\n",
    "\n",
    "            mate = False\n",
    "            for move in moves:\n",
    "                game.PlayMove(move)\n",
    "                board_batch.append(board_to_tensor(game.pieces))\n",
    "                game.FlipBoard()\n",
    "                if game.is_over():\n",
    "                    if game.get_winner() != 'draw':\n",
    "                        mate = True\n",
    "                        chosen_move = move\n",
    "                        game = game_ini.copy()\n",
    "                        break\n",
    "                game = game_ini.copy()\n",
    "\n",
    "            if not mate:\n",
    "                \n",
    "                board_tensor = torch.stack(board_batch)\n",
    "\n",
    "                if i < 11: # in early phase of game, chose move stochastically to avoid repeating games\n",
    "                    values = model_curr(board_tensor)\n",
    "                    values_diff = [10*(values[i] - torch.mean(values)) for i in range(0, len(values))]\n",
    "                    move_prob = torch.softmax(torch.Tensor(values_diff), dim=0).numpy()\n",
    "                    chosen_i = np.random.choice(range(len(moves)), p=move_prob)\n",
    "                    chosen_move = moves[chosen_i]\n",
    "\n",
    "                else:\n",
    "                    values = model_curr(board_tensor).detach().numpy()\n",
    "                    chosen_move = moves[np.argmax(values)]\n",
    "\n",
    "            if game.turn == color_1:\n",
    "                value_list_1.append(max(values))\n",
    "            if game.turn == color_2:\n",
    "                value_list_2.append(max(values))\n",
    "\n",
    "        elif strategy_curr == 'TS':\n",
    "\n",
    "            chosen_move, root = ModelGuided_TS(game, model_curr, root=None, tmax=tmax_curr, prints=False)\n",
    "\n",
    "        elif strategy_curr == 'TS with rollout':\n",
    "\n",
    "            chosen_move, root = MC_TS(game, model_curr, root=None, tmax=tmax_curr, prints=False)\n",
    "\n",
    "        game.PlayMove(chosen_move)\n",
    "        game.FlipBoard()\n",
    "\n",
    "        i += 1\n",
    "\n",
    "    winner = game.get_winner()\n",
    "\n",
    "    if winner == color_1:\n",
    "        wins_1 += 1\n",
    "        print('win 1')\n",
    "    elif winner == color_2:\n",
    "        wins_2 += 1\n",
    "        print('win 2')\n",
    "    elif winner == 'draw':\n",
    "        draws += 1\n",
    "        print('draw')\n",
    "\n",
    "    print(' -- {} -- winner: {}'.format(i_test_game, winner))\n",
    "\n",
    "print()\n",
    "print('final statistics:')\n",
    "print('wins 1: {}, draws: {}, wins 2: {}'.format(wins_1, draws, wins_2))\n"
   ]
  },
  {
   "cell_type": "code",
   "execution_count": null,
   "metadata": {},
   "outputs": [],
   "source": [
    "'''\n",
    "MC (51410) one step greedy  vs  MC (51410) one step greedy\n",
    "    wins 1: 312, draws: 420, wins 2: 303\n",
    "\n",
    "MC (51410) one step greedy  vs  untrained one step greedy\n",
    "    wins 1: 828, draws: 113, wins 2: 59\n",
    "\n",
    "'''"
   ]
  },
  {
   "cell_type": "code",
   "execution_count": null,
   "metadata": {},
   "outputs": [],
   "source": [
    "model(board_to_tensor(board)).detach().numpy()"
   ]
  },
  {
   "cell_type": "code",
   "execution_count": 85,
   "metadata": {},
   "outputs": [],
   "source": [
    "board_batch = []\n",
    "\n",
    "game = Game()\n",
    "test_board = np.array([[14,  0,  0, 16,  0,  0,  0, 14],\n",
    "       [ 0, 11, 11,  0,  0, 11, 11, 11],\n",
    "       [ 0,  0,  0, 15, 13, 12,  0,  0],\n",
    "       [11,  0,  0, 11,  0,  0,  0,  0],\n",
    "       [ 0,  0,  0, 12, 11,  0,  0,  0],\n",
    "       [ 0,  1,  0,  0,  0,  0,  1,  1],\n",
    "       [ 1,  0,  1,  1,  1,  1,  3,  0],\n",
    "       [ 4,  2,  0,  0,  6,  5,  2,  4]], dtype='uint8')\n",
    "game.pieces = test_board.copy()\n",
    "# game.FlipBoard()\n",
    "# board_batch.append(board_to_tensor(game.pieces))\n",
    "# game.FlipBoard()\n",
    "# game.PlayMove(((6, 4), (5, 4), 'pawn'))\n",
    "# game.FlipBoard()\n",
    "# game.PlayMove(((3, 4), (1, 5), 'knight'))\n",
    "# board_batch.append(board_to_tensor(game.pieces))\n",
    "# game.FlipBoard()\n",
    "# game.PlayMove(((7, 4), (7, 3), 'king'))\n",
    "# game.FlipBoard()\n",
    "# game.PlayMove(((1, 5), (0, 7), 'knight'))\n",
    "# board_batch.append(board_to_tensor(game.pieces))\n",
    "# game.FlipBoard()\n",
    "# print(game.pieces)\n",
    "# print(model_1(torch.stack([board_to_tensor(game.pieces)])).detach().numpy())\n",
    "# game.PlayMove(((6, 6), (4, 4), 'bishop'))\n",
    "# print(game.pieces)\n",
    "# print(model_1(torch.stack([board_to_tensor(game.pieces)])).detach().numpy())"
   ]
  },
  {
   "cell_type": "code",
   "execution_count": 75,
   "metadata": {},
   "outputs": [
    {
     "data": {
      "text/plain": [
       "array([[-0.14085473]], dtype=float32)"
      ]
     },
     "execution_count": 75,
     "metadata": {},
     "output_type": "execute_result"
    }
   ],
   "source": [
    "\n"
   ]
  },
  {
   "cell_type": "code",
   "execution_count": 64,
   "metadata": {},
   "outputs": [
    {
     "name": "stdout",
     "output_type": "stream",
     "text": [
      "[[ 0.09627875]\n",
      " [-0.02825887]\n",
      " [ 0.06133867]]\n"
     ]
    }
   ],
   "source": [
    "values =  model_1(torch.stack(board_batch)).detach().numpy()\n",
    "print(values)"
   ]
  },
  {
   "cell_type": "code",
   "execution_count": 30,
   "metadata": {},
   "outputs": [
    {
     "name": "stdout",
     "output_type": "stream",
     "text": [
      "((5, 4), (3, 6), 'queen')\n"
     ]
    }
   ],
   "source": [
    "moves = game.PossibleMoves()\n",
    "game_ini = game.copy()\n",
    "board_batch = []\n",
    "mate = False\n",
    "for move in moves:\n",
    "    game.PlayMove(move)\n",
    "    board_batch.append(board_to_tensor(game.pieces))\n",
    "    game.FlipBoard()\n",
    "    if game.is_over():\n",
    "        if game.get_winner() != 'draw':\n",
    "            mate = True\n",
    "            chosen_move = move\n",
    "            game = game_ini.copy()\n",
    "            break\n",
    "    game = game_ini.copy()\n",
    "if not mate:\n",
    "    board_tensor = torch.stack(board_batch)\n",
    "    values = model_curr(board_tensor).detach().numpy()\n",
    "    chosen_move = moves[np.argmax(values)]\n",
    "\n",
    "print(chosen_move)"
   ]
  },
  {
   "cell_type": "code",
   "execution_count": 103,
   "metadata": {},
   "outputs": [],
   "source": [
    "chosen_move, root = ModelGuided_TS(game, model_1, root=None, batches=60, tmax=30, prints=False, factor_explore=1e-1)"
   ]
  },
  {
   "cell_type": "code",
   "execution_count": 104,
   "metadata": {},
   "outputs": [
    {
     "data": {
      "text/plain": [
       "((6, 4), (5, 4), 'pawn')"
      ]
     },
     "execution_count": 104,
     "metadata": {},
     "output_type": "execute_result"
    }
   ],
   "source": [
    "chosen_move"
   ]
  },
  {
   "cell_type": "code",
   "execution_count": 106,
   "metadata": {},
   "outputs": [
    {
     "name": "stdout",
     "output_type": "stream",
     "text": [
      "28391\n",
      "\n",
      "((7, 4), (7, 3), 'king') 524 [-0.19186603]\n",
      "((6, 0), (4, 0), 'pawn double') 129 [-0.20647992]\n",
      "((6, 5), (4, 5), 'pawn double') 906 [-0.12399661]\n",
      "((7, 1), (5, 0), 'knight') 116 [-0.18026815]\n",
      "((6, 3), (5, 3), 'pawn') 599 [-0.18219641]\n",
      "((6, 6), (4, 4), 'bishop') 5807 [-0.00909271]\n",
      "((6, 2), (4, 2), 'pawn double') 129 [-0.20505781]\n",
      "((5, 6), (4, 6), 'pawn') 174 [-0.21265653]\n",
      "((7, 7), (6, 7), 'rook') 384 [-0.09340157]\n",
      "((6, 2), (5, 2), 'pawn') 4443 [0.00813357]\n",
      "((6, 5), (5, 5), 'pawn') 804 [-0.07382141]\n",
      "((7, 6), (5, 5), 'knight') 127 [-0.17204365]\n",
      "((5, 7), (4, 7), 'pawn') 1118 [-0.03090405]\n",
      "((7, 1), (5, 2), 'knight') 116 [-0.13877784]\n",
      "((6, 6), (5, 5), 'bishop') 188 [-0.13320257]\n",
      "((5, 1), (4, 1), 'pawn') 126 [-0.17596908]\n",
      "((6, 4), (5, 4), 'pawn') 12205 [0.00678434]\n",
      "((5, 4), (6, 4), 'queen') 51 [-0.14213486]\n",
      "((5, 2), (7, 3), 'knight') 106 [-0.13523623]\n",
      "((5, 3), (3, 1), 'bishop') 44 [-0.11355411]\n",
      "((7, 7), (7, 5), 'rook') 383 [-0.07274227]\n",
      "((5, 2), (3, 1), 'knight') 67 [-0.12893412]\n",
      "((7, 0), (7, 3), 'rook') 2098 [0.01140867]\n",
      "((6, 6), (4, 6), 'pawn double') 148 [-0.14943066]\n",
      "((5, 4), (7, 2), 'queen') 42 [-0.13409708]\n",
      "((5, 2), (7, 1), 'knight') 77 [-0.15956664]\n",
      "((3, 4), (1, 3), 'knight') 38 [-0.10181167]\n",
      "((7, 4), (6, 3), 'king') 25 [-0.07994296]\n",
      "((3, 4), (5, 5), 'knight') 133 [-0.12879384]\n",
      "((5, 4), (3, 2), 'queen') 254 [-0.1527775]\n",
      "((5, 2), (6, 4), 'knight') 76 [-0.14694229]\n",
      "((6, 1), (4, 1), 'pawn double') 85 [-0.14840244]\n",
      "((5, 4), (2, 7), 'queen') 53 [-0.26011357]\n",
      "((3, 4), (2, 6), 'knight') 167 [-0.12044427]\n",
      "((3, 4), (1, 5), 'knight') 40 [-0.13433693]\n",
      "((7, 7), (7, 6), 'rook') 75 [-0.14613566]\n",
      "((6, 5), (5, 5), 'pawn') 84 [-0.1584518]\n",
      "((5, 4), (4, 3), 'queen') 629 [-0.04885072]\n",
      "((3, 4), (4, 2), 'knight') 106 [-0.13711429]\n",
      "((7, 4), (7, 5), 'king') 56 [-0.15846752]\n",
      "((5, 3), (2, 0), 'bishop') 62 [-0.13695726]\n",
      "((3, 4), (4, 6), 'knight') 237 [-0.14186972]\n",
      "((5, 4), (5, 7), 'queen') 46 [-0.16030905]\n",
      "((7, 7), (6, 7), 'rook') 69 [-0.12371115]\n",
      "((7, 0), (7, 1), 'rook') 110 [-0.13463606]\n",
      "((6, 1), (5, 1), 'pawn') 63 [-0.13753809]\n",
      "((7, 0), (7, 2), 'rook') 1859 [-0.01636314]\n",
      "((6, 6), (5, 6), 'pawn') 78 [-0.13495868]\n",
      "((5, 3), (7, 5), 'bishop') 94 [-0.12907614]\n",
      "((5, 4), (4, 5), 'queen') 144 [-0.12379325]\n",
      "((7, 4), (7, 3), 'king') 85 [-0.15360242]\n",
      "((4, 7), (3, 7), 'pawn') 96 [-0.15065344]\n",
      "((5, 4), (2, 1), 'queen') 50 [-0.22223341]\n",
      "((5, 2), (4, 0), 'knight') 92 [-0.14439775]\n",
      "((5, 4), (3, 6), 'queen') 3359 [-0.04142147]\n",
      "((5, 3), (6, 4), 'bishop') 79 [-0.1274357]\n",
      "((6, 0), (5, 0), 'pawn') 71 [-0.13653566]\n",
      "((7, 7), (5, 7), 'rook') 129 [-0.15903598]\n",
      "((7, 4), (6, 4), 'king') 43 [-0.06061203]\n",
      "((5, 4), (5, 6), 'queen') 176 [-0.14057112]\n",
      "((5, 4), (5, 5), 'queen') 62 [-0.14161424]\n",
      "((6, 5), (4, 5), 'pawn double') 82 [-0.16965847]\n",
      "((5, 4), (6, 3), 'queen') 57 [-0.12992775]\n",
      "((3, 4), (2, 2), 'knight') 64 [-0.15307897]\n",
      "((6, 0), (4, 0), 'pawn double') 79 [-0.11881017]\n",
      "((5, 3), (4, 2), 'bishop') 81 [-0.13880847]\n"
     ]
    }
   ],
   "source": [
    "print(root.visits)\n",
    "\n",
    "# for c, child in enumerate(root.children):\n",
    "\n",
    "print()\n",
    "for c, child in enumerate(root.children):\n",
    "    print(child.move, child.visits, root.values_value_sum[c])\n",
    "    if child.move == ((6, 4), (5, 4), 'pawn'):\n",
    "        next_root = child\n",
    "        break\n",
    "\n",
    "for c, child in enumerate(next_root.children):\n",
    "    print(child.move, child.visits, next_root.values_value_sum[c])\n",
    "    # if child.move == ((6, 6), (4, 4), 'bishop'):\n",
    "    #     next_root = child\n",
    "    #     break\n",
    "\n"
   ]
  },
  {
   "cell_type": "code",
   "execution_count": 18,
   "metadata": {},
   "outputs": [
    {
     "data": {
      "text/plain": [
       "((7, 6), (5, 5), 'knight')"
      ]
     },
     "execution_count": 18,
     "metadata": {},
     "output_type": "execute_result"
    }
   ],
   "source": [
    "chosen_move"
   ]
  },
  {
   "cell_type": "code",
   "execution_count": 31,
   "metadata": {},
   "outputs": [
    {
     "name": "stdout",
     "output_type": "stream",
     "text": [
      "[[ 0.  0.  0.  0.  0.  6.  0.  0.]\n",
      " [ 0.  0.  0.  0.  0.  0.  1.  0.]\n",
      " [ 0.  1.  1.  0.  0.  0.  0.  0.]\n",
      " [11.  0.  0.  0. 15.  0.  0.  0.]\n",
      " [ 1.  0.  0.  0.  0.  0.  0.  0.]\n",
      " [ 0.  0.  0.  0.  0.  0.  0.  0.]\n",
      " [ 0.  0.  0.  0. 16.  0.  0.  0.]\n",
      " [ 0.  0.  0.  0.  0.  0.  0.  0.]]\n"
     ]
    }
   ],
   "source": [
    "print(game.pieces)"
   ]
  },
  {
   "cell_type": "code",
   "execution_count": 17,
   "metadata": {},
   "outputs": [
    {
     "data": {
      "image/png": "[encoded data removed]",
      "text/plain": [
       "<Figure size 640x480 with 1 Axes>"
      ]
     },
     "metadata": {},
     "output_type": "display_data"
    }
   ],
   "source": [
    "plt.plot(value_list_2)\n",
    "plt.show()"
   ]
  },
  {
   "cell_type": "code",
   "execution_count": 4,
   "metadata": {},
   "outputs": [
    {
     "name": "stdout",
     "output_type": "stream",
     "text": [
      "[[14.  0.  0. 16. 15. 13. 12. 14.]\n",
      " [11. 11. 11. 13. 11.  0. 11.  0.]\n",
      " [ 0.  0. 12. 11.  0. 11.  0.  0.]\n",
      " [ 0.  0.  0.  0.  0.  0.  2.  0.]\n",
      " [ 0.  0.  0.  0.  0.  1. 11.  0.]\n",
      " [ 1.  0.  0.  0.  0.  0.  0.  0.]\n",
      " [ 0.  1.  1.  1.  1.  0.  0.  1.]\n",
      " [ 4.  2.  3.  6.  5.  3.  0.  4.]]\n"
     ]
    }
   ],
   "source": [
    "print(root.game.pieces.copy())"
   ]
  },
  {
   "cell_type": "code",
   "execution_count": 32,
   "metadata": {},
   "outputs": [
    {
     "name": "stdout",
     "output_type": "stream",
     "text": [
      "[[ 0. 16.  0.  0.  0. 14.  0.  0.]\n",
      " [ 0. 11. 14.  0.  0. 11. 11.  0.]\n",
      " [ 0.  0.  0.  0.  0.  0.  0. 11.]\n",
      " [ 0.  0.  0.  0.  1.  0.  0.  0.]\n",
      " [ 1. 11.  0.  0.  0.  0.  0.  0.]\n",
      " [ 0. 12.  0.  0.  0.  0. 12.  2.]\n",
      " [ 4.  1.  0.  1. 15.  0.  3.  0.]\n",
      " [ 0.  0.  3.  0.  6.  0.  0.  4.]]\n",
      "[[14.  0.  0. 16.  0. 13.  0.  0.]\n",
      " [ 0. 13.  0.  5. 11.  0. 11. 14.]\n",
      " [12.  2.  0.  0.  0.  0.  2.  0.]\n",
      " [ 0.  0.  0.  0.  0.  0.  1. 11.]\n",
      " [ 0.  0.  0. 11.  0.  0.  0.  0.]\n",
      " [ 1.  0.  0.  0.  0.  0.  0.  0.]\n",
      " [ 0.  1.  1.  0.  0.  4.  1.  0.]\n",
      " [ 0.  0.  4.  0.  0.  0.  6.  0.]]\n"
     ]
    }
   ],
   "source": [
    "print(test_board)\n",
    "\n",
    "test_game = Game()\n",
    "game.pieces = test_board.copy()\n",
    "game.FlipBoard()\n",
    "test_board_2 = game.pieces.copy()\n",
    "print(test_board_2)"
   ]
  },
  {
   "cell_type": "code",
   "execution_count": 33,
   "metadata": {},
   "outputs": [
    {
     "name": "stdout",
     "output_type": "stream",
     "text": [
      "torch.Size([1, 12, 8, 8])\n",
      "[[-0.5117809]]\n"
     ]
    }
   ],
   "source": [
    "board_tensor = torch.stack([board_to_tensor(test_board_2)])\n",
    "print(board_tensor.shape)\n",
    "print(model(board_tensor).detach().numpy())"
   ]
  },
  {
   "cell_type": "code",
   "execution_count": 5,
   "metadata": {},
   "outputs": [
    {
     "name": "stdout",
     "output_type": "stream",
     "text": [
      "[-0.17429683]\n",
      "((3, 6), (2, 4), 'knight') [0.20158273]\n",
      "((6, 2), (4, 2), 'pawn double') [0.20725262]\n",
      "((5, 0), (4, 0), 'pawn') [0.1594004]\n",
      "((6, 7), (5, 7), 'pawn') [0.17765297]\n",
      "((6, 3), (5, 3), 'pawn') [0.16457026]\n",
      "((6, 1), (5, 1), 'pawn') [0.19432324]\n",
      "((7, 5), (5, 7), 'bishop') [0.21010248]\n",
      "((6, 2), (5, 2), 'pawn') [0.18175095]\n",
      "((3, 6), (1, 5), 'knight') [0.18227968]\n",
      "((6, 5), (4, 5), 'pawn double') [0.22972205]\n",
      "((3, 6), (5, 5), 'knight') [0.16762033]\n",
      "((6, 5), (5, 5), 'pawn') [0.2058292]\n",
      "((7, 0), (6, 0), 'rook') [0.22084834]\n",
      "((4, 6), (3, 7), 'pawn') [0.16519904]\n",
      "((7, 1), (5, 2), 'knight') [0.19383875]\n",
      "((6, 4), (5, 4), 'pawn') [0.16737323]\n",
      "((6, 1), (4, 1), 'pawn double') [0.1979411]\n",
      "((3, 6), (5, 7), 'knight') [0.16750029]\n",
      "((3, 6), (1, 7), 'knight') [0.16713691]\n",
      "((7, 5), (6, 6), 'bishop') [0.1672442]\n",
      "((6, 4), (4, 4), 'pawn double') [0.19757417]\n",
      "((6, 7), (4, 7), 'pawn double') [0.20734109]\n",
      "((3, 6), (4, 4), 'knight') [0.09983734]\n",
      "((6, 3), (4, 3), 'pawn double') [0.16863109]\n",
      "((7, 7), (7, 6), 'rook') [0.21807964]\n"
     ]
    }
   ],
   "source": [
    "print(root.value)\n",
    "for c, child in enumerate(root.children):\n",
    "    # print(child.move, child.visits, root.values_value_indi[c])\n",
    "    print(child.move, child.value)"
   ]
  },
  {
   "cell_type": "code",
   "execution_count": 6,
   "metadata": {},
   "outputs": [
    {
     "data": {
      "text/plain": [
       "array([[14., 12., 13., 16., 15., 13., 12., 14.],\n",
       "       [11., 11., 11.,  0., 11., 11., 11., 11.],\n",
       "       [ 0.,  0.,  0.,  0.,  0.,  0.,  0.,  0.],\n",
       "       [ 0.,  0.,  0., 11.,  0.,  0.,  0.,  0.],\n",
       "       [ 0.,  0.,  0.,  0.,  0.,  0.,  0.,  0.],\n",
       "       [ 0.,  0.,  0.,  0.,  0.,  0.,  0.,  0.],\n",
       "       [ 1.,  1.,  1.,  1.,  1.,  1.,  1.,  1.],\n",
       "       [ 4.,  2.,  3.,  6.,  5.,  3.,  2.,  4.]])"
      ]
     },
     "execution_count": 6,
     "metadata": {},
     "output_type": "execute_result"
    }
   ],
   "source": [
    "boards[-1]"
   ]
  },
  {
   "cell_type": "code",
   "execution_count": 5,
   "metadata": {},
   "outputs": [
    {
     "name": "stdout",
     "output_type": "stream",
     "text": [
      "((6, 7), (4, 7), 'pawn double')\n",
      "((7, 6), (5, 7), 'knight')\n",
      "((6, 2), (5, 2), 'pawn')\n",
      "((7, 6), (5, 5), 'knight')\n",
      "((7, 1), (5, 0), 'knight')\n",
      "((6, 3), (4, 3), 'pawn double')\n",
      "((6, 0), (4, 0), 'pawn double')\n",
      "((6, 4), (4, 4), 'pawn double')\n",
      "((6, 7), (5, 7), 'pawn')\n",
      "((6, 4), (5, 4), 'pawn')\n",
      "((7, 1), (5, 2), 'knight')\n",
      "((6, 5), (4, 5), 'pawn double')\n",
      "((6, 0), (5, 0), 'pawn')\n",
      "((6, 6), (5, 6), 'pawn')\n",
      "((6, 2), (4, 2), 'pawn double')\n",
      "((6, 1), (5, 1), 'pawn')\n",
      "((6, 5), (5, 5), 'pawn')\n",
      "((6, 6), (4, 6), 'pawn double')\n",
      "((6, 1), (4, 1), 'pawn double')\n",
      "((6, 3), (5, 3), 'pawn')\n"
     ]
    }
   ],
   "source": [
    "for child in root.children:\n",
    "    print(child.move)"
   ]
  },
  {
   "cell_type": "code",
   "execution_count": 3,
   "metadata": {},
   "outputs": [],
   "source": [
    "game = Game()\n",
    "game.PlayMove(((6, 4), (4, 4), 'pawn double'))\n",
    "game.FlipBoard()\n",
    "\n",
    "chosen_move, root = ModelGuided_TS(game, model, root=None, tmax=20, batches=50, prints=False, factor_wins=2, factor_mat=0.0, \n",
    "        factor_value_sum=1, factor_value_indi=1, factor_explore=1e-3)"
   ]
  },
  {
   "cell_type": "code",
   "execution_count": 13,
   "metadata": {},
   "outputs": [
    {
     "name": "stdout",
     "output_type": "stream",
     "text": [
      "[0.04328359]\n",
      "[[14. 12. 13. 16. 15. 13. 12. 14.]\n",
      " [11. 11. 11.  0. 11. 11. 11. 11.]\n",
      " [ 0.  0.  0.  0.  0.  0.  0.  0.]\n",
      " [ 0.  0.  0. 11.  0.  0.  0.  0.]\n",
      " [ 0.  0.  0.  0.  0.  0.  0.  0.]\n",
      " [ 0.  0.  0.  0.  0.  0.  0.  0.]\n",
      " [ 1.  1.  1.  1.  1.  1.  1.  1.]\n",
      " [ 4.  2.  3.  6.  5.  3.  2.  4.]]\n",
      "[[14. 12. 13. 15. 16. 13. 12. 14.]\n",
      " [11. 11. 11. 11. 11. 11. 11.  0.]\n",
      " [ 0.  0.  0.  0.  0.  0.  0.  0.]\n",
      " [ 0.  0.  0.  0.  0.  0.  0. 11.]\n",
      " [ 0.  0.  0.  0.  1.  0.  0.  0.]\n",
      " [ 0.  0.  0.  0.  0.  0.  0.  0.]\n",
      " [ 1.  1.  1.  1.  0.  1.  1.  1.]\n",
      " [ 4.  2.  3.  5.  6.  3.  2.  4.]]\n",
      "[[14. 12. 13. 16.  0. 13. 12. 14.]\n",
      " [11. 11. 11.  0. 11. 11. 11. 11.]\n",
      " [ 0.  0.  0.  0.  0.  0.  0.  0.]\n",
      " [ 0.  0.  0. 11.  0.  0.  0.  0.]\n",
      " [15.  0.  0.  0.  0.  0.  0.  0.]\n",
      " [ 0.  0.  0.  0.  0.  0.  0.  0.]\n",
      " [ 0.  1.  1.  1.  1.  1.  1.  1.]\n",
      " [ 4.  2.  3.  6.  5.  3.  2.  4.]]\n",
      "[[14. 12. 13. 15. 16. 13. 12.  0.]\n",
      " [11. 11. 11. 11. 11. 11. 11.  0.]\n",
      " [ 0.  0.  0.  0.  0.  0.  0.  0.]\n",
      " [ 0.  0.  0.  0.  0.  0.  0. 14.]\n",
      " [ 0.  0.  0.  0.  1.  0.  0.  0.]\n",
      " [ 0.  0.  0.  0.  0.  0.  0.  0.]\n",
      " [ 1.  1.  1.  1.  0.  1.  1.  1.]\n",
      " [ 4.  2.  3.  0.  6.  3.  2.  4.]]\n",
      "((7, 4), (6, 4), 'king') [0.15256792]\n",
      "((6, 2), (5, 2), 'pawn') [0.12650172]\n",
      "((7, 5), (6, 4), 'bishop') [0.17996514]\n",
      "((6, 1), (4, 1), 'pawn double') [0.12695661]\n",
      "((6, 6), (5, 6), 'pawn') [0.13117775]\n",
      "((7, 5), (4, 2), 'bishop') [0.15155786]\n",
      "((6, 1), (5, 1), 'pawn') [0.12442187]\n",
      "((7, 6), (6, 4), 'knight') [0.13006064]\n",
      "((7, 1), (5, 0), 'knight') [0.14108077]\n",
      "((7, 5), (2, 0), 'bishop') [0.2504658]\n",
      "((7, 5), (5, 3), 'bishop') [0.16758147]\n",
      "((6, 5), (4, 5), 'pawn double') [0.12719068]\n",
      "((7, 5), (3, 1), 'bishop') [0.19070014]\n",
      "((6, 7), (4, 7), 'pawn double') [0.14727056]\n",
      "((7, 1), (5, 2), 'knight') [0.11572422]\n",
      "((6, 7), (5, 7), 'pawn') [0.14729196]\n",
      "((6, 6), (4, 6), 'pawn double') [0.12655815]\n",
      "((7, 4), (7, 3), 'king') [0.13968042]\n",
      "((7, 6), (5, 5), 'knight') [0.14657073]\n",
      "((6, 2), (4, 2), 'pawn double') [0.1477144]\n",
      "((6, 0), (4, 0), 'pawn double') [0.12448843]\n",
      "((6, 3), (4, 3), 'pawn double') [0.12748158]\n",
      "((6, 3), (5, 3), 'pawn') [0.11391885]\n",
      "((6, 5), (5, 5), 'pawn') [0.10224301]\n",
      "((6, 0), (5, 0), 'pawn') [0.11425245]\n",
      "((4, 4), (3, 4), 'pawn') [0.11517611]\n",
      "((7, 6), (5, 7), 'knight') [0.13649912]\n"
     ]
    }
   ],
   "source": [
    "print(root.value)\n",
    "print(root.game.pieces)\n",
    "for c, child in enumerate(root.children):\n",
    "    # print(child.move, child.visits, root.values_value_indi[c])\n",
    "    # print(child.visits, child.move, child.value, child.matdiff_rollmed.get_median())\n",
    "    if child.move == ((6, 0), (4, 0), 'pawn double'):\n",
    "        print(child.game.pieces)\n",
    "        for c_child, child_child in enumerate(child.children):\n",
    "            # print(child_child.visits, child_child.move, child_child.matdiff_rollmed.get_median())\n",
    "            # if child_child.move == ((7, 5), (2, 0), 'bishop'):\n",
    "            if child_child.move == ((7, 3), (3, 7), 'queen'):\n",
    "                print(child_child.game.pieces)\n",
    "    #             print(child_child.value)\n",
    "                for c_2, child_2 in enumerate(child_child.children):\n",
    "\n",
    "                    if child_2.move == ((7, 0), (4, 0), 'rook'):\n",
    "                        \n",
    "                        print(child_2.game.pieces)\n",
    "\n",
    "                        for c_3, child_3 in enumerate(child_2.children):\n",
    "\n",
    "\n",
    "                            # print(child_2.visits, child_2.move, child_2.matdiff_rollmed.get_median())\n",
    "                            # print(child_child.values_value_sum[c_2])\n",
    "                            print(child_3.move, child_3.value)"
   ]
  },
  {
   "cell_type": "code",
   "execution_count": null,
   "metadata": {},
   "outputs": [],
   "source": []
  },
  {
   "cell_type": "code",
   "execution_count": 7,
   "metadata": {},
   "outputs": [
    {
     "name": "stdout",
     "output_type": "stream",
     "text": [
      "[0.04328359]\n",
      "[[14. 12. 13. 16. 15. 13. 12. 14.]\n",
      " [11. 11. 11.  0. 11. 11. 11. 11.]\n",
      " [ 0.  0.  0.  0.  0.  0.  0.  0.]\n",
      " [ 0.  0.  0. 11.  0.  0.  0.  0.]\n",
      " [ 0.  0.  0.  0.  0.  0.  0.  0.]\n",
      " [ 0.  0.  0.  0.  0.  0.  0.  0.]\n",
      " [ 1.  1.  1.  1.  1.  1.  1.  1.]\n",
      " [ 4.  2.  3.  6.  5.  3.  2.  4.]]\n",
      "[[14. 12. 13. 15. 16. 13. 12. 14.]\n",
      " [11. 11. 11. 11. 11.  0. 11. 11.]\n",
      " [ 0.  0.  0.  0.  0.  0.  0.  0.]\n",
      " [ 0.  0.  0.  0.  0. 11.  0.  0.]\n",
      " [ 0.  0.  0.  0.  1.  0.  0.  0.]\n",
      " [ 0.  0.  0.  0.  0.  0.  0.  0.]\n",
      " [ 1.  1.  1.  1.  0.  1.  1.  1.]\n",
      " [ 4.  2.  3.  5.  6.  3.  2.  4.]]\n",
      "((6, 2), (4, 2), 'pawn double') 310 0.22204529527837974\n",
      "mat value blocks: \n",
      "70\n",
      "0.22580645161290322\n",
      "-16962\n",
      "-1.3156996587030716\n",
      "((7, 3), (4, 6), 'queen') 2 0\n",
      "((7, 4), (6, 4), 'king') 1 0\n",
      "((6, 2), (4, 2), 'pawn double') 2 0\n",
      "((7, 5), (4, 2), 'bishop') 1 0\n",
      "((6, 1), (5, 1), 'pawn') 1 0\n",
      "((6, 6), (4, 6), 'pawn double') 2 0\n",
      "((6, 3), (4, 3), 'pawn double') 1 0\n",
      "((7, 5), (2, 0), 'bishop') 66 -21\n",
      "((6, 0), (4, 0), 'pawn double') 2 0\n",
      "((4, 4), (3, 4), 'pawn') 1 0\n",
      "((7, 1), (5, 0), 'knight') 2 0\n",
      "((6, 5), (4, 5), 'pawn double') 1 0\n",
      "((7, 5), (5, 3), 'bishop') 2 0\n",
      "((6, 7), (5, 7), 'pawn') 1 0\n",
      "((6, 2), (5, 2), 'pawn') 2 0\n",
      "((7, 6), (6, 4), 'knight') 1 0\n",
      "((4, 4), (3, 5), 'pawn') 1 1\n",
      "((7, 5), (6, 4), 'bishop') 2 0\n",
      "((6, 1), (4, 1), 'pawn double') 2 0\n",
      "((7, 3), (5, 5), 'queen') 1 0\n",
      "((7, 1), (5, 2), 'knight') 2 0\n",
      "((7, 3), (6, 4), 'queen') 2 0\n",
      "((6, 3), (5, 3), 'pawn') 2 0\n",
      "((7, 5), (3, 1), 'bishop') 1 0\n",
      "((6, 0), (5, 0), 'pawn') 1 0\n",
      "((7, 6), (5, 5), 'knight') 1 0\n",
      "((7, 3), (3, 7), 'queen') 199 -50\n",
      "((6, 5), (5, 5), 'pawn') 2 0\n",
      "((6, 6), (5, 6), 'pawn') 2 0\n",
      "((7, 6), (5, 7), 'knight') 2 0\n",
      "((6, 7), (4, 7), 'pawn double') 1 0\n"
     ]
    }
   ],
   "source": [
    "print(root.value)\n",
    "print(root.game.pieces)\n",
    "for c, child in enumerate(root.children):\n",
    "    # print(child.move, child.visits, root.values_value_indi[c])\n",
    "    # print(child.visits, child.move, child.value, root.values_mat[c])\n",
    "    if child.move == ((6, 2), (4, 2), 'pawn double'):\n",
    "        print(child.game.pieces)\n",
    "        print(child.move, child.visits, root.values_mat[c])\n",
    "\n",
    "        print('mat value blocks: ')\n",
    "        print(child.matdiff_sum)\n",
    "        print(child.matdiff_sum / max(child.visits, 1))\n",
    "        print(root.matdiff_sum)\n",
    "        print(root.matdiff_sum / max(root.visits, 1))\n",
    "\n",
    "        # [np.tanh(child.matdiff_sum / max(child.visits, 1) + self.matdiff_sum / max(self.visits, 1))    \n",
    "        #                 for child in self.children]\n",
    "\n",
    "        for c_child, child_child in enumerate(child.children):\n",
    "            # print(child_child.visits, child_child.move, child_child.value, child.values_mat[c_child])\n",
    "            print(child_child.move, child_child.visits, child_child.matdiff_sum)\n",
    "    #         if child_child.move == ((7, 5), (2, 0), 'bishop'):\n",
    "    #             print(child_child.game.pieces)\n",
    "    #             print(child_child.value)\n",
    "    #             for c_2, child_2 in enumerate(child_child.children):\n",
    "    #                 print(child_2.visits, child_2.move, child_2.value)"
   ]
  },
  {
   "cell_type": "code",
   "execution_count": 22,
   "metadata": {},
   "outputs": [
    {
     "name": "stdout",
     "output_type": "stream",
     "text": [
      "[[14 12 13 15 16 13 12 14]\n",
      " [11 11 11 11 11 11 11 11]\n",
      " [ 0  0  0  0  0  0  0  0]\n",
      " [ 0  0  0  0  0  0  0  0]\n",
      " [ 0  0  0  0  0  0  0  0]\n",
      " [ 0  0  0  0  0  0  0  0]\n",
      " [ 1  1  1  1  1  1  1  1]\n",
      " [ 4  2  3  5  6  3  2  4]]\n",
      "[[14. 12. 13. 16. 15. 13. 12. 14.]\n",
      " [11. 11.  0. 11. 11. 11. 11. 11.]\n",
      " [ 0.  0. 11.  0.  0.  0.  0.  0.]\n",
      " [ 0.  0.  0.  0.  0.  0.  0.  0.]\n",
      " [ 0.  0.  0.  0.  0.  0.  0.  0.]\n",
      " [ 0.  0.  0.  0.  0.  0.  0.  0.]\n",
      " [ 1.  1.  1.  1.  1.  1.  1.  1.]\n",
      " [ 4.  2.  3.  6.  5.  3.  2.  4.]]\n",
      "[[14. 12. 13. 15. 16. 13. 12. 14.]\n",
      " [11. 11. 11. 11.  0. 11. 11. 11.]\n",
      " [ 0.  0.  0.  0. 11.  0.  0.  0.]\n",
      " [ 0.  0.  0.  0.  0.  0.  0.  0.]\n",
      " [ 0.  0.  0.  0.  0.  0.  0.  0.]\n",
      " [ 0.  0.  0.  0.  0.  1.  0.  0.]\n",
      " [ 1.  1.  1.  1.  1.  0.  1.  1.]\n",
      " [ 4.  2.  3.  5.  6.  3.  2.  4.]]\n",
      "[[14. 12. 13. 16. 15. 13. 12. 14.]\n",
      " [11.  0.  0. 11. 11. 11. 11. 11.]\n",
      " [ 0.  0. 11.  0.  0.  0.  0.  0.]\n",
      " [ 0. 11.  0.  0.  0.  0.  0.  0.]\n",
      " [ 0.  0.  0.  0.  0.  0.  0.  0.]\n",
      " [ 0.  0.  0.  1.  0.  0.  0.  0.]\n",
      " [ 1.  1.  1.  0.  1.  1.  1.  1.]\n",
      " [ 4.  2.  3.  6.  5.  3.  2.  4.]]\n",
      "[[14. 12. 13. 16. 15. 13. 12. 14.]\n",
      " [11.  0.  0. 11. 11. 11. 11. 11.]\n",
      " [ 0.  0. 11.  0.  0.  0.  0.  0.]\n",
      " [ 5. 11.  0.  0.  0.  0.  0.  0.]\n",
      " [ 0.  0.  0.  0.  0.  0.  0.  0.]\n",
      " [ 0.  0.  0.  1.  0.  0.  0.  0.]\n",
      " [ 1.  1.  1.  0.  1.  1.  1.  1.]\n",
      " [ 4.  2.  3.  6.  0.  3.  2.  4.]]\n",
      "[[-0.24970455]]\n"
     ]
    }
   ],
   "source": [
    "g_test = Game()\n",
    "print(g_test.pieces)\n",
    "g_test.PlayMove(((6, 5), (5, 5), 'pawn'))\n",
    "g_test.FlipBoard()\n",
    "print(g_test.pieces)\n",
    "g_test.PlayMove(((6, 3), (5, 3), 'pawn'))\n",
    "g_test.FlipBoard()\n",
    "print(g_test.pieces)\n",
    "g_test.PlayMove(((6, 6), (4, 6), 'pawn double'))\n",
    "g_test.FlipBoard()\n",
    "print(g_test.pieces)\n",
    "g_test.PlayMove(((7, 4), (3, 0), 'queen'))\n",
    "\n",
    "print(g_test.pieces)\n",
    "\n",
    "board_tensor = torch.stack([board_to_tensor(g_test.pieces)])\n",
    "print(model(board_tensor).detach().numpy())\n",
    "\n"
   ]
  },
  {
   "cell_type": "code",
   "execution_count": 64,
   "metadata": {},
   "outputs": [
    {
     "name": "stdout",
     "output_type": "stream",
     "text": [
      "[[0.08739713]]\n"
     ]
    }
   ],
   "source": [
    "test_board= np.array(\n",
    "[[14., 0. ,13., 16. ,15. ,13.,12. ,14.],\n",
    " [11. ,11. ,11. ,0. ,11. ,11., 11., 11.],\n",
    " [ 0. , 0. , 12. , 0. , 0. ,0. , 0. , 0.],\n",
    " [ 0. , 0. , 0. , 11. , 0. ,0. , 0. , 0.],\n",
    " [ 0. , 5. , 0. , 1. , 0. , 0. , 0., 0.],\n",
    " [ 0. , 0. , 0. , 0. , 0. , 0. , 0. , 0.],\n",
    " [ 1. , 1. , 1. , 0. , 1. , 1. , 1. , 1.],\n",
    " [ 4. , 2. , 3. , 6. , 0. , 3. , 2. , 4.]])\n",
    "\n",
    "\n",
    "board_tensor = torch.stack([board_to_tensor(test_board)])\n",
    "print(model(board_tensor).detach().numpy())"
   ]
  },
  {
   "cell_type": "code",
   "execution_count": null,
   "metadata": {},
   "outputs": [],
   "source": []
  }
 ],
 "metadata": {
  "kernelspec": {
   "display_name": "Python 3",
   "language": "python",
   "name": "python3"
  },
  "language_info": {
   "codemirror_mode": {
    "name": "ipython",
    "version": 3
   },
   "file_extension": ".py",
   "mimetype": "text/x-python",
   "name": "python",
   "nbconvert_exporter": "python",
   "pygments_lexer": "ipython3",
   "version": "3.10.10"
  },
  "orig_nbformat": 4,
  "vscode": {
   "interpreter": {
    "hash": "aee8b7b246df8f9039afb4144a1f6fd8d2ca17a180786b69acc140d282b71a49"
   }
  }
 },
 "nbformat": 4,
 "nbformat_minor": 2
}
