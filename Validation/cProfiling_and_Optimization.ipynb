{
 "cells": [
  {
   "cell_type": "code",
   "execution_count": 1,
   "metadata": {},
   "outputs": [],
   "source": [
    "import numpy as np\n",
    "import torch\n",
    "import matplotlib.pyplot as plt\n",
    "import sys, os\n",
    "\n",
    "project_root = os.path.abspath(os.path.join(os.getcwd(), '..'))\n",
    "sys.path.append(project_root)\n",
    "\n",
    "from Resources.Model import Model_v25\n",
    "from Resources.Game import *\n",
    "from Resources.TS_ModelGuided_SensAnalysis import *"
   ]
  },
  {
   "cell_type": "markdown",
   "metadata": {},
   "source": [
    "##### Setup Model"
   ]
  },
  {
   "cell_type": "code",
   "execution_count": 2,
   "metadata": {},
   "outputs": [
    {
     "data": {
      "text/plain": [
       "<All keys matched successfully>"
      ]
     },
     "execution_count": 2,
     "metadata": {},
     "output_type": "execute_result"
    }
   ],
   "source": [
    "model = Model_v25()\n",
    "model.eval()\n",
    "model.load_state_dict(torch.load('../Train Value Function/Monte Carlo/Model Saves MC v25/model_2000_batches'))"
   ]
  },
  {
   "cell_type": "markdown",
   "metadata": {},
   "source": [
    "Settings"
   ]
  },
  {
   "cell_type": "code",
   "execution_count": 3,
   "metadata": {},
   "outputs": [],
   "source": [
    "factor_wins       = 1\n",
    "factor_mat_diff   = 0.0\n",
    "factor_value_sum  = 1\n",
    "factor_value_ind  = 0.0\n",
    "factor_grad_sum   = 0       #  1.5e-3\n",
    "factor_grad_ind   = 0       # -5e-3\n",
    "factor_explore    = 1e-1    #  1e-6\n",
    "\n",
    "# factors = [1, 0.0, 1, 0.0, 0.0, 0.0, 0.1]\n",
    "factors = [1, 0.0, 0.0, 0.0, 0.0, 0.0, 0.1, 1.0]\n",
    "tmax = 100"
   ]
  },
  {
   "cell_type": "code",
   "execution_count": 4,
   "metadata": {},
   "outputs": [
    {
     "name": "stdout",
     "output_type": "stream",
     "text": [
      "         62277964 function calls (59076401 primitive calls) in 36.727 seconds\n",
      "\n",
      "   Ordered by: standard name\n",
      "\n",
      "   ncalls  tottime  percall  cumtime  percall filename:lineno(function)\n",
      "   151662    0.054    0.000    0.582    0.000 <__array_function__ internals>:177(argmax)\n",
      "   187182    0.067    0.000    1.178    0.000 <__array_function__ internals>:177(mean)\n",
      "       30    0.000    0.000    0.000    0.000 <__array_function__ internals>:177(where)\n",
      "        1    0.000    0.000   36.727   36.727 <string>:1(<module>)\n",
      "    53763    0.060    0.000    6.673    0.000 Game.py:108(is_over_eff)\n",
      "    53778    0.017    0.000    0.211    0.000 Game.py:11(__init__)\n",
      "  7377408    1.000    0.000    1.000    0.000 Game.py:132(OnBoard)\n",
      "    53765    0.813    0.000    0.828    0.000 Game.py:147(FlipBoard)\n",
      "    53778    0.055    0.000    0.194    0.000 Game.py:16(Reset)\n",
      "    53764    2.460    0.000    3.127    0.000 Game.py:2129(board_to_tensor)\n",
      "   911007    2.029    0.000    2.317    0.000 Game.py:273(InCheck_pieces)\n",
      "       15    0.000    0.000    0.000    0.000 Game.py:348(InCheck)\n",
      "    53778    0.048    0.000    0.283    0.000 Game.py:55(copy)\n",
      "    53778    0.091    0.000    0.092    0.000 Game.py:599(PlayMove)\n",
      "   107527   11.934    0.000   15.473    0.000 Game.py:737(PossibleMoves)\n",
      "      100    0.004    0.000    0.772    0.008 Model.py:1265(forward)\n",
      "   259189    0.151    0.000    0.256    0.000 RollingMedian.py:11(add_number)\n",
      "  2789113    0.738    0.000    0.873    0.000 RollingMedian.py:26(get_median)\n",
      "    53764    0.009    0.000    0.009    0.000 RollingMedian.py:7(__init__)\n",
      "    53764    0.105    0.000    8.976    0.000 TS_ModelGuided_SensAnalysis.py:162(__init__)\n",
      "2789113/100    2.929    0.000    5.268    0.053 TS_ModelGuided_SensAnalysis.py:196(rollmed_update)\n",
      "    36316    0.068    0.000    0.068    0.000 TS_ModelGuided_SensAnalysis.py:215(<listcomp>)\n",
      "    36316    0.417    0.000    0.570    0.000 TS_ModelGuided_SensAnalysis.py:221(<listcomp>)\n",
      "    36316    0.080    0.000    0.080    0.000 TS_ModelGuided_SensAnalysis.py:224(<listcomp>)\n",
      "   205425    0.043    0.000    0.051    0.000 TS_ModelGuided_SensAnalysis.py:231(is_leaf)\n",
      "  3039106    0.510    0.000    0.581    0.000 TS_ModelGuided_SensAnalysis.py:234(is_fully_expanded)\n",
      "   151662    0.701    0.000    9.593    0.000 TS_ModelGuided_SensAnalysis.py:237(select_child)\n",
      "   151662    0.680    0.000    0.680    0.000 TS_ModelGuided_SensAnalysis.py:243(<listcomp>)\n",
      "   151662    0.327    0.000    0.554    0.000 TS_ModelGuided_SensAnalysis.py:249(<listcomp>)\n",
      "   151662    0.081    0.000    0.081    0.000 TS_ModelGuided_SensAnalysis.py:257(<listcomp>)\n",
      "      113    0.001    0.000    0.002    0.000 TS_ModelGuided_SensAnalysis.py:260(<listcomp>)\n",
      "      113    0.000    0.000    0.000    0.000 TS_ModelGuided_SensAnalysis.py:265(<listcomp>)\n",
      "   151662    1.261    0.000    1.719    0.000 TS_ModelGuided_SensAnalysis.py:269(<listcomp>)\n",
      "   151662    0.080    0.000    0.080    0.000 TS_ModelGuided_SensAnalysis.py:282(<listcomp>)\n",
      "   151662    0.077    0.000    0.077    0.000 TS_ModelGuided_SensAnalysis.py:283(<listcomp>)\n",
      "   151662    1.785    0.000    1.988    0.000 TS_ModelGuided_SensAnalysis.py:288(<listcomp>)\n",
      "   151662    2.163    0.000    2.163    0.000 TS_ModelGuided_SensAnalysis.py:292(<listcomp>)\n",
      "    53763    0.114    0.000   13.528    0.000 TS_ModelGuided_SensAnalysis.py:313(expand)\n",
      "259189/53764    0.113    0.000    0.369    0.000 TS_ModelGuided_SensAnalysis.py:325(backpropagate_value)\n",
      "259188/53763    0.095    0.000    0.095    0.000 TS_ModelGuided_SensAnalysis.py:357(backpropagate)\n",
      "        1    0.000    0.000    0.000    0.000 TS_ModelGuided_SensAnalysis.py:384(get_best_move)\n",
      "        1    0.274    0.274   36.726   36.726 TS_ModelGuided_SensAnalysis.py:58(SensAnalysis_TS)\n",
      "      300    0.000    0.000    0.000    0.000 _VF.py:26(__getattr__)\n",
      "      100    0.000    0.000    0.049    0.000 _jit_internal.py:474(fn)\n",
      "   187182    0.277    0.000    0.860    0.000 _methods.py:164(_mean)\n",
      "   187182    0.164    0.000    0.181    0.000 _methods.py:67(_count_reduce_items)\n",
      "      600    0.000    0.000    0.047    0.000 activation.py:776(forward)\n",
      "      300    0.000    0.000    0.414    0.001 conv.py:595(_conv_forward)\n",
      "      300    0.001    0.000    0.415    0.001 conv.py:612(forward)\n",
      "      300    0.000    0.000    0.002    0.000 dropout.py:58(forward)\n",
      "   151662    0.014    0.000    0.014    0.000 fromnumeric.py:1149(_argmax_dispatcher)\n",
      "   151662    0.066    0.000    0.480    0.000 fromnumeric.py:1153(argmax)\n",
      "   187182    0.017    0.000    0.017    0.000 fromnumeric.py:3340(_mean_dispatcher)\n",
      "   187182    0.188    0.000    1.049    0.000 fromnumeric.py:3345(mean)\n",
      "   151662    0.136    0.000    0.329    0.000 fromnumeric.py:38(_wrapit)\n",
      "   151662    0.074    0.000    0.414    0.000 fromnumeric.py:51(_wrapfunc)\n",
      "      300    0.001    0.000    0.002    0.000 functional.py:1235(dropout)\n",
      "      600    0.001    0.000    0.046    0.000 functional.py:1618(leaky_relu)\n",
      "      100    0.000    0.000    0.049    0.000 functional.py:846(_max_pool3d)\n",
      "      400    0.001    0.000    0.218    0.001 linear.py:113(forward)\n",
      " 1800/100    0.007    0.000    0.776    0.008 module.py:1494(_call_impl)\n",
      "     3100    0.002    0.000    0.002    0.000 module.py:1601(__getattr__)\n",
      "       30    0.000    0.000    0.000    0.000 multiarray.py:345(where)\n",
      "      100    0.000    0.000    0.050    0.000 pooling.py:243(forward)\n",
      "    53763    0.027    0.000    0.036    0.000 random.py:239(_randbelow_with_getrandbits)\n",
      "    53763    0.024    0.000    0.063    0.000 random.py:375(choice)\n",
      "   103267    0.029    0.000    0.029    0.000 {built-in method _heapq.heappop}\n",
      "   362456    0.043    0.000    0.043    0.000 {built-in method _heapq.heappush}\n",
      "  4612932    0.122    0.000    0.122    0.000 {built-in method builtins.abs}\n",
      "        1    0.000    0.000   36.727   36.727 {built-in method builtins.exec}\n",
      "   303624    0.022    0.000    0.022    0.000 {built-in method builtins.getattr}\n",
      "   187182    0.017    0.000    0.017    0.000 {built-in method builtins.hasattr}\n",
      "   187182    0.016    0.000    0.016    0.000 {built-in method builtins.isinstance}\n",
      "   374364    0.023    0.000    0.023    0.000 {built-in method builtins.issubclass}\n",
      " 10701830    0.260    0.000    0.260    0.000 {built-in method builtins.len}\n",
      "  9401727    0.827    0.000    0.827    0.000 {built-in method builtins.max}\n",
      "  3125342    0.228    0.000    0.228    0.000 {built-in method builtins.min}\n",
      "    53808    0.139    0.000    0.139    0.000 {built-in method numpy.array}\n",
      "   187182    0.147    0.000    0.147    0.000 {built-in method numpy.asanyarray}\n",
      "   151662    0.124    0.000    0.124    0.000 {built-in method numpy.asarray}\n",
      "   338874    0.078    0.000    1.607    0.000 {built-in method numpy.core._multiarray_umath.implement_array_function}\n",
      "   187182    0.016    0.000    0.016    0.000 {built-in method numpy.core._multiarray_umath.normalize_axis_index}\n",
      "    53765    0.015    0.000    0.015    0.000 {built-in method numpy.zeros}\n",
      "    53963    0.008    0.000    0.008    0.000 {built-in method time.time}\n",
      "     1800    0.001    0.000    0.001    0.000 {built-in method torch._C._get_tracing_state}\n",
      "     1000    0.000    0.000    0.000    0.000 {built-in method torch._C._has_torch_function_unary}\n",
      "      600    0.045    0.000    0.045    0.000 {built-in method torch._C._nn.leaky_relu}\n",
      "      400    0.217    0.001    0.217    0.001 {built-in method torch._C._nn.linear}\n",
      "      100    0.029    0.000    0.029    0.000 {built-in method torch.cat}\n",
      "      300    0.414    0.001    0.414    0.001 {built-in method torch.conv3d}\n",
      "      300    0.000    0.000    0.000    0.000 {built-in method torch.dropout}\n",
      "   645168    0.333    0.000    0.333    0.000 {built-in method torch.from_numpy}\n",
      "      100    0.049    0.000    0.049    0.000 {built-in method torch.max_pool3d}\n",
      "      100    0.028    0.000    0.028    0.000 {built-in method torch.stack}\n",
      "    53764    0.101    0.000    0.101    0.000 {built-in method torch.zeros}\n",
      "  7225893    0.228    0.000    0.228    0.000 {method 'append' of 'list' objects}\n",
      "   151662    0.057    0.000    0.057    0.000 {method 'argmax' of 'numpy.ndarray' objects}\n",
      "   645168    0.233    0.000    0.233    0.000 {method 'astype' of 'numpy.ndarray' objects}\n",
      "    53763    0.003    0.000    0.003    0.000 {method 'bit_length' of 'int' objects}\n",
      "    53793    0.025    0.000    0.025    0.000 {method 'copy' of 'numpy.ndarray' objects}\n",
      "      100    0.000    0.000    0.000    0.000 {method 'detach' of 'torch._C._TensorBase' objects}\n",
      "        1    0.000    0.000    0.000    0.000 {method 'disable' of '_lsprof.Profiler' objects}\n",
      "       30    0.000    0.000    0.000    0.000 {method 'flatten' of 'numpy.ndarray' objects}\n",
      "    83996    0.006    0.000    0.006    0.000 {method 'getrandbits' of '_random.Random' objects}\n",
      "   796375    0.154    0.000    0.154    0.000 {method 'item' of 'numpy.generic' objects}\n",
      "   107528    0.005    0.000    0.005    0.000 {method 'item' of 'numpy.ndarray' objects}\n",
      "      100    0.000    0.000    0.000    0.000 {method 'numpy' of 'torch._C._TensorBase' objects}\n",
      "   187182    0.200    0.000    0.200    0.000 {method 'reduce' of 'numpy.ufunc' objects}\n",
      "    63182    0.040    0.000    0.040    0.000 {method 'remove' of 'list' objects}\n",
      "      400    0.000    0.000    0.000    0.000 {method 'size' of 'torch._C._TensorBase' objects}\n",
      "      100    0.001    0.000    0.001    0.000 {method 'unsqueeze' of 'torch._C._TensorBase' objects}\n",
      "      400    0.001    0.000    0.001    0.000 {method 'view' of 'torch._C._TensorBase' objects}\n",
      "\n",
      "\n"
     ]
    }
   ],
   "source": [
    "import cProfile\n",
    "\n",
    "game_dummy = Game()\n",
    "# chosen_move, root = SensAnalysis_TS(game_dummy, model, batches=100, factors=factors, \n",
    "#                                     use_gradients=False, root=None, tmax=30, prints=False)\n",
    "\n",
    "cProfile.run('chosen_move, root = SensAnalysis_TS(game_dummy, model, batches=100, factors=factors, use_gradients=False, root=None, tmax=30, prints=False)')\n",
    "\n",
    "# total visits: 26323\n",
    "# total time: 31.08s\n",
    "# select_child: 17.88s\n",
    "# expand: 7.038s\n",
    "\n",
    "# dont calculate grads when not used:\n",
    "# total visits: 27768\n",
    "# total time: 32.16s\n",
    "# select_child: 17.05s\n",
    "# expand: 7.44s\n",
    "\n",
    "# precalculate rollmed:\n",
    "# visits: 56989\n",
    "# total time: 37.2s\n",
    "# select_child: 8.2s, rollmed_update: 5.5s (combined: 13.2s)\n",
    "# expand: 14.497\n"
   ]
  },
  {
   "cell_type": "code",
   "execution_count": 6,
   "metadata": {},
   "outputs": [
    {
     "name": "stdout",
     "output_type": "stream",
     "text": [
      "53763\n"
     ]
    }
   ],
   "source": [
    "print(root.visits)"
   ]
  },
  {
   "cell_type": "code",
   "execution_count": null,
   "metadata": {},
   "outputs": [],
   "source": []
  },
  {
   "cell_type": "code",
   "execution_count": null,
   "metadata": {},
   "outputs": [],
   "source": []
  }
 ],
 "metadata": {
  "kernelspec": {
   "display_name": "Python 3",
   "language": "python",
   "name": "python3"
  },
  "language_info": {
   "codemirror_mode": {
    "name": "ipython",
    "version": 3
   },
   "file_extension": ".py",
   "mimetype": "text/x-python",
   "name": "python",
   "nbconvert_exporter": "python",
   "pygments_lexer": "ipython3",
   "version": "3.10.10"
  },
  "orig_nbformat": 4,
  "vscode": {
   "interpreter": {
    "hash": "aee8b7b246df8f9039afb4144a1f6fd8d2ca17a180786b69acc140d282b71a49"
   }
  }
 },
 "nbformat": 4,
 "nbformat_minor": 2
}
